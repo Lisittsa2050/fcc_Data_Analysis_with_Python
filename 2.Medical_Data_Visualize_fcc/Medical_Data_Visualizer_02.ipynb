{
  "cells": [
    {
      "cell_type": "markdown",
      "source": [
        "# <font size='6' color='darkorange' face='Courier New'>**Medical Data Visualizer**</font>\n",
        "<hr style=\"color: grey; border-style: solid; border-width: 2px; font-weight: bold;\">"
      ],
      "metadata": {
        "id": "qyA7LuQqMtHp"
      },
      "id": "qyA7LuQqMtHp"
    },
    {
      "cell_type": "code",
      "source": [
        "# импорт необходимых библиотек\n",
        "import numpy as np\n",
        "import pandas as pd\n",
        "import matplotlib.pyplot as plt\n",
        "import seaborn as sns\n",
        "plt.style.use ('dark_background')"
      ],
      "metadata": {
        "id": "GjUJS0QciCnL"
      },
      "id": "GjUJS0QciCnL",
      "execution_count": 2,
      "outputs": []
    },
    {
      "cell_type": "code",
      "source": [
        "# чтение файла с данными и сохранение в df\n",
        "df = pd.read_csv('medical_examination.csv')"
      ],
      "metadata": {
        "id": "u0u8vxECigZ-"
      },
      "id": "u0u8vxECigZ-",
      "execution_count": 3,
      "outputs": []
    },
    {
      "cell_type": "code",
      "source": [
        "# получение первых 5 строк таблицы df\n",
        "df.head()"
      ],
      "metadata": {
        "colab": {
          "base_uri": "https://localhost:8080/",
          "height": 206
        },
        "id": "nRMsor_HrcI-",
        "outputId": "dc0cce2b-5f67-4842-d493-0145ac275149"
      },
      "id": "nRMsor_HrcI-",
      "execution_count": 4,
      "outputs": [
        {
          "output_type": "execute_result",
          "data": {
            "text/plain": [
              "   id    age  sex  height  weight  ap_hi  ap_lo  cholesterol  gluc  smoke  \\\n",
              "0   0  18393    2     168    62.0    110     80            1     1      0   \n",
              "1   1  20228    1     156    85.0    140     90            3     1      0   \n",
              "2   2  18857    1     165    64.0    130     70            3     1      0   \n",
              "3   3  17623    2     169    82.0    150    100            1     1      0   \n",
              "4   4  17474    1     156    56.0    100     60            1     1      0   \n",
              "\n",
              "   alco  active  cardio  \n",
              "0     0       1       0  \n",
              "1     0       1       1  \n",
              "2     0       0       1  \n",
              "3     0       1       1  \n",
              "4     0       0       0  "
            ],
            "text/html": [
              "\n",
              "  <div id=\"df-7000eeb3-3f77-414e-9997-fb7938b61819\" class=\"colab-df-container\">\n",
              "    <div>\n",
              "<style scoped>\n",
              "    .dataframe tbody tr th:only-of-type {\n",
              "        vertical-align: middle;\n",
              "    }\n",
              "\n",
              "    .dataframe tbody tr th {\n",
              "        vertical-align: top;\n",
              "    }\n",
              "\n",
              "    .dataframe thead th {\n",
              "        text-align: right;\n",
              "    }\n",
              "</style>\n",
              "<table border=\"1\" class=\"dataframe\">\n",
              "  <thead>\n",
              "    <tr style=\"text-align: right;\">\n",
              "      <th></th>\n",
              "      <th>id</th>\n",
              "      <th>age</th>\n",
              "      <th>sex</th>\n",
              "      <th>height</th>\n",
              "      <th>weight</th>\n",
              "      <th>ap_hi</th>\n",
              "      <th>ap_lo</th>\n",
              "      <th>cholesterol</th>\n",
              "      <th>gluc</th>\n",
              "      <th>smoke</th>\n",
              "      <th>alco</th>\n",
              "      <th>active</th>\n",
              "      <th>cardio</th>\n",
              "    </tr>\n",
              "  </thead>\n",
              "  <tbody>\n",
              "    <tr>\n",
              "      <th>0</th>\n",
              "      <td>0</td>\n",
              "      <td>18393</td>\n",
              "      <td>2</td>\n",
              "      <td>168</td>\n",
              "      <td>62.0</td>\n",
              "      <td>110</td>\n",
              "      <td>80</td>\n",
              "      <td>1</td>\n",
              "      <td>1</td>\n",
              "      <td>0</td>\n",
              "      <td>0</td>\n",
              "      <td>1</td>\n",
              "      <td>0</td>\n",
              "    </tr>\n",
              "    <tr>\n",
              "      <th>1</th>\n",
              "      <td>1</td>\n",
              "      <td>20228</td>\n",
              "      <td>1</td>\n",
              "      <td>156</td>\n",
              "      <td>85.0</td>\n",
              "      <td>140</td>\n",
              "      <td>90</td>\n",
              "      <td>3</td>\n",
              "      <td>1</td>\n",
              "      <td>0</td>\n",
              "      <td>0</td>\n",
              "      <td>1</td>\n",
              "      <td>1</td>\n",
              "    </tr>\n",
              "    <tr>\n",
              "      <th>2</th>\n",
              "      <td>2</td>\n",
              "      <td>18857</td>\n",
              "      <td>1</td>\n",
              "      <td>165</td>\n",
              "      <td>64.0</td>\n",
              "      <td>130</td>\n",
              "      <td>70</td>\n",
              "      <td>3</td>\n",
              "      <td>1</td>\n",
              "      <td>0</td>\n",
              "      <td>0</td>\n",
              "      <td>0</td>\n",
              "      <td>1</td>\n",
              "    </tr>\n",
              "    <tr>\n",
              "      <th>3</th>\n",
              "      <td>3</td>\n",
              "      <td>17623</td>\n",
              "      <td>2</td>\n",
              "      <td>169</td>\n",
              "      <td>82.0</td>\n",
              "      <td>150</td>\n",
              "      <td>100</td>\n",
              "      <td>1</td>\n",
              "      <td>1</td>\n",
              "      <td>0</td>\n",
              "      <td>0</td>\n",
              "      <td>1</td>\n",
              "      <td>1</td>\n",
              "    </tr>\n",
              "    <tr>\n",
              "      <th>4</th>\n",
              "      <td>4</td>\n",
              "      <td>17474</td>\n",
              "      <td>1</td>\n",
              "      <td>156</td>\n",
              "      <td>56.0</td>\n",
              "      <td>100</td>\n",
              "      <td>60</td>\n",
              "      <td>1</td>\n",
              "      <td>1</td>\n",
              "      <td>0</td>\n",
              "      <td>0</td>\n",
              "      <td>0</td>\n",
              "      <td>0</td>\n",
              "    </tr>\n",
              "  </tbody>\n",
              "</table>\n",
              "</div>\n",
              "    <div class=\"colab-df-buttons\">\n",
              "\n",
              "  <div class=\"colab-df-container\">\n",
              "    <button class=\"colab-df-convert\" onclick=\"convertToInteractive('df-7000eeb3-3f77-414e-9997-fb7938b61819')\"\n",
              "            title=\"Convert this dataframe to an interactive table.\"\n",
              "            style=\"display:none;\">\n",
              "\n",
              "  <svg xmlns=\"http://www.w3.org/2000/svg\" height=\"24px\" viewBox=\"0 -960 960 960\">\n",
              "    <path d=\"M120-120v-720h720v720H120Zm60-500h600v-160H180v160Zm220 220h160v-160H400v160Zm0 220h160v-160H400v160ZM180-400h160v-160H180v160Zm440 0h160v-160H620v160ZM180-180h160v-160H180v160Zm440 0h160v-160H620v160Z\"/>\n",
              "  </svg>\n",
              "    </button>\n",
              "\n",
              "  <style>\n",
              "    .colab-df-container {\n",
              "      display:flex;\n",
              "      gap: 12px;\n",
              "    }\n",
              "\n",
              "    .colab-df-convert {\n",
              "      background-color: #E8F0FE;\n",
              "      border: none;\n",
              "      border-radius: 50%;\n",
              "      cursor: pointer;\n",
              "      display: none;\n",
              "      fill: #1967D2;\n",
              "      height: 32px;\n",
              "      padding: 0 0 0 0;\n",
              "      width: 32px;\n",
              "    }\n",
              "\n",
              "    .colab-df-convert:hover {\n",
              "      background-color: #E2EBFA;\n",
              "      box-shadow: 0px 1px 2px rgba(60, 64, 67, 0.3), 0px 1px 3px 1px rgba(60, 64, 67, 0.15);\n",
              "      fill: #174EA6;\n",
              "    }\n",
              "\n",
              "    .colab-df-buttons div {\n",
              "      margin-bottom: 4px;\n",
              "    }\n",
              "\n",
              "    [theme=dark] .colab-df-convert {\n",
              "      background-color: #3B4455;\n",
              "      fill: #D2E3FC;\n",
              "    }\n",
              "\n",
              "    [theme=dark] .colab-df-convert:hover {\n",
              "      background-color: #434B5C;\n",
              "      box-shadow: 0px 1px 3px 1px rgba(0, 0, 0, 0.15);\n",
              "      filter: drop-shadow(0px 1px 2px rgba(0, 0, 0, 0.3));\n",
              "      fill: #FFFFFF;\n",
              "    }\n",
              "  </style>\n",
              "\n",
              "    <script>\n",
              "      const buttonEl =\n",
              "        document.querySelector('#df-7000eeb3-3f77-414e-9997-fb7938b61819 button.colab-df-convert');\n",
              "      buttonEl.style.display =\n",
              "        google.colab.kernel.accessAllowed ? 'block' : 'none';\n",
              "\n",
              "      async function convertToInteractive(key) {\n",
              "        const element = document.querySelector('#df-7000eeb3-3f77-414e-9997-fb7938b61819');\n",
              "        const dataTable =\n",
              "          await google.colab.kernel.invokeFunction('convertToInteractive',\n",
              "                                                    [key], {});\n",
              "        if (!dataTable) return;\n",
              "\n",
              "        const docLinkHtml = 'Like what you see? Visit the ' +\n",
              "          '<a target=\"_blank\" href=https://colab.research.google.com/notebooks/data_table.ipynb>data table notebook</a>'\n",
              "          + ' to learn more about interactive tables.';\n",
              "        element.innerHTML = '';\n",
              "        dataTable['output_type'] = 'display_data';\n",
              "        await google.colab.output.renderOutput(dataTable, element);\n",
              "        const docLink = document.createElement('div');\n",
              "        docLink.innerHTML = docLinkHtml;\n",
              "        element.appendChild(docLink);\n",
              "      }\n",
              "    </script>\n",
              "  </div>\n",
              "\n",
              "\n",
              "<div id=\"df-5f3bb6b8-9fdf-46c7-8f63-60f603b403b0\">\n",
              "  <button class=\"colab-df-quickchart\" onclick=\"quickchart('df-5f3bb6b8-9fdf-46c7-8f63-60f603b403b0')\"\n",
              "            title=\"Suggest charts\"\n",
              "            style=\"display:none;\">\n",
              "\n",
              "<svg xmlns=\"http://www.w3.org/2000/svg\" height=\"24px\"viewBox=\"0 0 24 24\"\n",
              "     width=\"24px\">\n",
              "    <g>\n",
              "        <path d=\"M19 3H5c-1.1 0-2 .9-2 2v14c0 1.1.9 2 2 2h14c1.1 0 2-.9 2-2V5c0-1.1-.9-2-2-2zM9 17H7v-7h2v7zm4 0h-2V7h2v10zm4 0h-2v-4h2v4z\"/>\n",
              "    </g>\n",
              "</svg>\n",
              "  </button>\n",
              "\n",
              "<style>\n",
              "  .colab-df-quickchart {\n",
              "      --bg-color: #E8F0FE;\n",
              "      --fill-color: #1967D2;\n",
              "      --hover-bg-color: #E2EBFA;\n",
              "      --hover-fill-color: #174EA6;\n",
              "      --disabled-fill-color: #AAA;\n",
              "      --disabled-bg-color: #DDD;\n",
              "  }\n",
              "\n",
              "  [theme=dark] .colab-df-quickchart {\n",
              "      --bg-color: #3B4455;\n",
              "      --fill-color: #D2E3FC;\n",
              "      --hover-bg-color: #434B5C;\n",
              "      --hover-fill-color: #FFFFFF;\n",
              "      --disabled-bg-color: #3B4455;\n",
              "      --disabled-fill-color: #666;\n",
              "  }\n",
              "\n",
              "  .colab-df-quickchart {\n",
              "    background-color: var(--bg-color);\n",
              "    border: none;\n",
              "    border-radius: 50%;\n",
              "    cursor: pointer;\n",
              "    display: none;\n",
              "    fill: var(--fill-color);\n",
              "    height: 32px;\n",
              "    padding: 0;\n",
              "    width: 32px;\n",
              "  }\n",
              "\n",
              "  .colab-df-quickchart:hover {\n",
              "    background-color: var(--hover-bg-color);\n",
              "    box-shadow: 0 1px 2px rgba(60, 64, 67, 0.3), 0 1px 3px 1px rgba(60, 64, 67, 0.15);\n",
              "    fill: var(--button-hover-fill-color);\n",
              "  }\n",
              "\n",
              "  .colab-df-quickchart-complete:disabled,\n",
              "  .colab-df-quickchart-complete:disabled:hover {\n",
              "    background-color: var(--disabled-bg-color);\n",
              "    fill: var(--disabled-fill-color);\n",
              "    box-shadow: none;\n",
              "  }\n",
              "\n",
              "  .colab-df-spinner {\n",
              "    border: 2px solid var(--fill-color);\n",
              "    border-color: transparent;\n",
              "    border-bottom-color: var(--fill-color);\n",
              "    animation:\n",
              "      spin 1s steps(1) infinite;\n",
              "  }\n",
              "\n",
              "  @keyframes spin {\n",
              "    0% {\n",
              "      border-color: transparent;\n",
              "      border-bottom-color: var(--fill-color);\n",
              "      border-left-color: var(--fill-color);\n",
              "    }\n",
              "    20% {\n",
              "      border-color: transparent;\n",
              "      border-left-color: var(--fill-color);\n",
              "      border-top-color: var(--fill-color);\n",
              "    }\n",
              "    30% {\n",
              "      border-color: transparent;\n",
              "      border-left-color: var(--fill-color);\n",
              "      border-top-color: var(--fill-color);\n",
              "      border-right-color: var(--fill-color);\n",
              "    }\n",
              "    40% {\n",
              "      border-color: transparent;\n",
              "      border-right-color: var(--fill-color);\n",
              "      border-top-color: var(--fill-color);\n",
              "    }\n",
              "    60% {\n",
              "      border-color: transparent;\n",
              "      border-right-color: var(--fill-color);\n",
              "    }\n",
              "    80% {\n",
              "      border-color: transparent;\n",
              "      border-right-color: var(--fill-color);\n",
              "      border-bottom-color: var(--fill-color);\n",
              "    }\n",
              "    90% {\n",
              "      border-color: transparent;\n",
              "      border-bottom-color: var(--fill-color);\n",
              "    }\n",
              "  }\n",
              "</style>\n",
              "\n",
              "  <script>\n",
              "    async function quickchart(key) {\n",
              "      const quickchartButtonEl =\n",
              "        document.querySelector('#' + key + ' button');\n",
              "      quickchartButtonEl.disabled = true;  // To prevent multiple clicks.\n",
              "      quickchartButtonEl.classList.add('colab-df-spinner');\n",
              "      try {\n",
              "        const charts = await google.colab.kernel.invokeFunction(\n",
              "            'suggestCharts', [key], {});\n",
              "      } catch (error) {\n",
              "        console.error('Error during call to suggestCharts:', error);\n",
              "      }\n",
              "      quickchartButtonEl.classList.remove('colab-df-spinner');\n",
              "      quickchartButtonEl.classList.add('colab-df-quickchart-complete');\n",
              "    }\n",
              "    (() => {\n",
              "      let quickchartButtonEl =\n",
              "        document.querySelector('#df-5f3bb6b8-9fdf-46c7-8f63-60f603b403b0 button');\n",
              "      quickchartButtonEl.style.display =\n",
              "        google.colab.kernel.accessAllowed ? 'block' : 'none';\n",
              "    })();\n",
              "  </script>\n",
              "</div>\n",
              "    </div>\n",
              "  </div>\n"
            ]
          },
          "metadata": {},
          "execution_count": 4
        }
      ]
    },
    {
      "cell_type": "markdown",
      "source": [
        "## Добавьте к данным столбец с избыточным весом.\n",
        "Чтобы определить, есть ли у человека избыточный вес, сначала рассчитайте его ИМТ, разделив его вес в килограммах на квадрат его роста в метрах.\n",
        "Если это значение > 25, то у человека избыточный вес. Используйте значение 0 для `NOT` избыточного веса и значение 1 для избыточного веса."
      ],
      "metadata": {
        "id": "iN3-HaFern-P"
      },
      "id": "iN3-HaFern-P"
    },
    {
      "cell_type": "code",
      "source": [
        "# рассчитаем ИМТ\n",
        "# Используем метод astype(), чтобы принудительно задать тип данных и создадим новую колонку\n",
        "BMI_01 = (df['weight'] / (df['height'] / 100) ** 2) > 25\n",
        "df['ex_weight'] = BMI_01.astype('uint8')\n",
        "df.head()"
      ],
      "metadata": {
        "colab": {
          "base_uri": "https://localhost:8080/",
          "height": 206
        },
        "id": "69dnb0Q8ro8r",
        "outputId": "7bc9c37c-acb8-40a9-8e6f-c1bddcd51e2a"
      },
      "id": "69dnb0Q8ro8r",
      "execution_count": 5,
      "outputs": [
        {
          "output_type": "execute_result",
          "data": {
            "text/plain": [
              "   id    age  sex  height  weight  ap_hi  ap_lo  cholesterol  gluc  smoke  \\\n",
              "0   0  18393    2     168    62.0    110     80            1     1      0   \n",
              "1   1  20228    1     156    85.0    140     90            3     1      0   \n",
              "2   2  18857    1     165    64.0    130     70            3     1      0   \n",
              "3   3  17623    2     169    82.0    150    100            1     1      0   \n",
              "4   4  17474    1     156    56.0    100     60            1     1      0   \n",
              "\n",
              "   alco  active  cardio  ex_weight  \n",
              "0     0       1       0          0  \n",
              "1     0       1       1          1  \n",
              "2     0       0       1          0  \n",
              "3     0       1       1          1  \n",
              "4     0       0       0          0  "
            ],
            "text/html": [
              "\n",
              "  <div id=\"df-35c84d8a-6493-4ef1-b078-7906b4cff654\" class=\"colab-df-container\">\n",
              "    <div>\n",
              "<style scoped>\n",
              "    .dataframe tbody tr th:only-of-type {\n",
              "        vertical-align: middle;\n",
              "    }\n",
              "\n",
              "    .dataframe tbody tr th {\n",
              "        vertical-align: top;\n",
              "    }\n",
              "\n",
              "    .dataframe thead th {\n",
              "        text-align: right;\n",
              "    }\n",
              "</style>\n",
              "<table border=\"1\" class=\"dataframe\">\n",
              "  <thead>\n",
              "    <tr style=\"text-align: right;\">\n",
              "      <th></th>\n",
              "      <th>id</th>\n",
              "      <th>age</th>\n",
              "      <th>sex</th>\n",
              "      <th>height</th>\n",
              "      <th>weight</th>\n",
              "      <th>ap_hi</th>\n",
              "      <th>ap_lo</th>\n",
              "      <th>cholesterol</th>\n",
              "      <th>gluc</th>\n",
              "      <th>smoke</th>\n",
              "      <th>alco</th>\n",
              "      <th>active</th>\n",
              "      <th>cardio</th>\n",
              "      <th>ex_weight</th>\n",
              "    </tr>\n",
              "  </thead>\n",
              "  <tbody>\n",
              "    <tr>\n",
              "      <th>0</th>\n",
              "      <td>0</td>\n",
              "      <td>18393</td>\n",
              "      <td>2</td>\n",
              "      <td>168</td>\n",
              "      <td>62.0</td>\n",
              "      <td>110</td>\n",
              "      <td>80</td>\n",
              "      <td>1</td>\n",
              "      <td>1</td>\n",
              "      <td>0</td>\n",
              "      <td>0</td>\n",
              "      <td>1</td>\n",
              "      <td>0</td>\n",
              "      <td>0</td>\n",
              "    </tr>\n",
              "    <tr>\n",
              "      <th>1</th>\n",
              "      <td>1</td>\n",
              "      <td>20228</td>\n",
              "      <td>1</td>\n",
              "      <td>156</td>\n",
              "      <td>85.0</td>\n",
              "      <td>140</td>\n",
              "      <td>90</td>\n",
              "      <td>3</td>\n",
              "      <td>1</td>\n",
              "      <td>0</td>\n",
              "      <td>0</td>\n",
              "      <td>1</td>\n",
              "      <td>1</td>\n",
              "      <td>1</td>\n",
              "    </tr>\n",
              "    <tr>\n",
              "      <th>2</th>\n",
              "      <td>2</td>\n",
              "      <td>18857</td>\n",
              "      <td>1</td>\n",
              "      <td>165</td>\n",
              "      <td>64.0</td>\n",
              "      <td>130</td>\n",
              "      <td>70</td>\n",
              "      <td>3</td>\n",
              "      <td>1</td>\n",
              "      <td>0</td>\n",
              "      <td>0</td>\n",
              "      <td>0</td>\n",
              "      <td>1</td>\n",
              "      <td>0</td>\n",
              "    </tr>\n",
              "    <tr>\n",
              "      <th>3</th>\n",
              "      <td>3</td>\n",
              "      <td>17623</td>\n",
              "      <td>2</td>\n",
              "      <td>169</td>\n",
              "      <td>82.0</td>\n",
              "      <td>150</td>\n",
              "      <td>100</td>\n",
              "      <td>1</td>\n",
              "      <td>1</td>\n",
              "      <td>0</td>\n",
              "      <td>0</td>\n",
              "      <td>1</td>\n",
              "      <td>1</td>\n",
              "      <td>1</td>\n",
              "    </tr>\n",
              "    <tr>\n",
              "      <th>4</th>\n",
              "      <td>4</td>\n",
              "      <td>17474</td>\n",
              "      <td>1</td>\n",
              "      <td>156</td>\n",
              "      <td>56.0</td>\n",
              "      <td>100</td>\n",
              "      <td>60</td>\n",
              "      <td>1</td>\n",
              "      <td>1</td>\n",
              "      <td>0</td>\n",
              "      <td>0</td>\n",
              "      <td>0</td>\n",
              "      <td>0</td>\n",
              "      <td>0</td>\n",
              "    </tr>\n",
              "  </tbody>\n",
              "</table>\n",
              "</div>\n",
              "    <div class=\"colab-df-buttons\">\n",
              "\n",
              "  <div class=\"colab-df-container\">\n",
              "    <button class=\"colab-df-convert\" onclick=\"convertToInteractive('df-35c84d8a-6493-4ef1-b078-7906b4cff654')\"\n",
              "            title=\"Convert this dataframe to an interactive table.\"\n",
              "            style=\"display:none;\">\n",
              "\n",
              "  <svg xmlns=\"http://www.w3.org/2000/svg\" height=\"24px\" viewBox=\"0 -960 960 960\">\n",
              "    <path d=\"M120-120v-720h720v720H120Zm60-500h600v-160H180v160Zm220 220h160v-160H400v160Zm0 220h160v-160H400v160ZM180-400h160v-160H180v160Zm440 0h160v-160H620v160ZM180-180h160v-160H180v160Zm440 0h160v-160H620v160Z\"/>\n",
              "  </svg>\n",
              "    </button>\n",
              "\n",
              "  <style>\n",
              "    .colab-df-container {\n",
              "      display:flex;\n",
              "      gap: 12px;\n",
              "    }\n",
              "\n",
              "    .colab-df-convert {\n",
              "      background-color: #E8F0FE;\n",
              "      border: none;\n",
              "      border-radius: 50%;\n",
              "      cursor: pointer;\n",
              "      display: none;\n",
              "      fill: #1967D2;\n",
              "      height: 32px;\n",
              "      padding: 0 0 0 0;\n",
              "      width: 32px;\n",
              "    }\n",
              "\n",
              "    .colab-df-convert:hover {\n",
              "      background-color: #E2EBFA;\n",
              "      box-shadow: 0px 1px 2px rgba(60, 64, 67, 0.3), 0px 1px 3px 1px rgba(60, 64, 67, 0.15);\n",
              "      fill: #174EA6;\n",
              "    }\n",
              "\n",
              "    .colab-df-buttons div {\n",
              "      margin-bottom: 4px;\n",
              "    }\n",
              "\n",
              "    [theme=dark] .colab-df-convert {\n",
              "      background-color: #3B4455;\n",
              "      fill: #D2E3FC;\n",
              "    }\n",
              "\n",
              "    [theme=dark] .colab-df-convert:hover {\n",
              "      background-color: #434B5C;\n",
              "      box-shadow: 0px 1px 3px 1px rgba(0, 0, 0, 0.15);\n",
              "      filter: drop-shadow(0px 1px 2px rgba(0, 0, 0, 0.3));\n",
              "      fill: #FFFFFF;\n",
              "    }\n",
              "  </style>\n",
              "\n",
              "    <script>\n",
              "      const buttonEl =\n",
              "        document.querySelector('#df-35c84d8a-6493-4ef1-b078-7906b4cff654 button.colab-df-convert');\n",
              "      buttonEl.style.display =\n",
              "        google.colab.kernel.accessAllowed ? 'block' : 'none';\n",
              "\n",
              "      async function convertToInteractive(key) {\n",
              "        const element = document.querySelector('#df-35c84d8a-6493-4ef1-b078-7906b4cff654');\n",
              "        const dataTable =\n",
              "          await google.colab.kernel.invokeFunction('convertToInteractive',\n",
              "                                                    [key], {});\n",
              "        if (!dataTable) return;\n",
              "\n",
              "        const docLinkHtml = 'Like what you see? Visit the ' +\n",
              "          '<a target=\"_blank\" href=https://colab.research.google.com/notebooks/data_table.ipynb>data table notebook</a>'\n",
              "          + ' to learn more about interactive tables.';\n",
              "        element.innerHTML = '';\n",
              "        dataTable['output_type'] = 'display_data';\n",
              "        await google.colab.output.renderOutput(dataTable, element);\n",
              "        const docLink = document.createElement('div');\n",
              "        docLink.innerHTML = docLinkHtml;\n",
              "        element.appendChild(docLink);\n",
              "      }\n",
              "    </script>\n",
              "  </div>\n",
              "\n",
              "\n",
              "<div id=\"df-7e87ee17-fd35-481c-be38-9c39dae30e0d\">\n",
              "  <button class=\"colab-df-quickchart\" onclick=\"quickchart('df-7e87ee17-fd35-481c-be38-9c39dae30e0d')\"\n",
              "            title=\"Suggest charts\"\n",
              "            style=\"display:none;\">\n",
              "\n",
              "<svg xmlns=\"http://www.w3.org/2000/svg\" height=\"24px\"viewBox=\"0 0 24 24\"\n",
              "     width=\"24px\">\n",
              "    <g>\n",
              "        <path d=\"M19 3H5c-1.1 0-2 .9-2 2v14c0 1.1.9 2 2 2h14c1.1 0 2-.9 2-2V5c0-1.1-.9-2-2-2zM9 17H7v-7h2v7zm4 0h-2V7h2v10zm4 0h-2v-4h2v4z\"/>\n",
              "    </g>\n",
              "</svg>\n",
              "  </button>\n",
              "\n",
              "<style>\n",
              "  .colab-df-quickchart {\n",
              "      --bg-color: #E8F0FE;\n",
              "      --fill-color: #1967D2;\n",
              "      --hover-bg-color: #E2EBFA;\n",
              "      --hover-fill-color: #174EA6;\n",
              "      --disabled-fill-color: #AAA;\n",
              "      --disabled-bg-color: #DDD;\n",
              "  }\n",
              "\n",
              "  [theme=dark] .colab-df-quickchart {\n",
              "      --bg-color: #3B4455;\n",
              "      --fill-color: #D2E3FC;\n",
              "      --hover-bg-color: #434B5C;\n",
              "      --hover-fill-color: #FFFFFF;\n",
              "      --disabled-bg-color: #3B4455;\n",
              "      --disabled-fill-color: #666;\n",
              "  }\n",
              "\n",
              "  .colab-df-quickchart {\n",
              "    background-color: var(--bg-color);\n",
              "    border: none;\n",
              "    border-radius: 50%;\n",
              "    cursor: pointer;\n",
              "    display: none;\n",
              "    fill: var(--fill-color);\n",
              "    height: 32px;\n",
              "    padding: 0;\n",
              "    width: 32px;\n",
              "  }\n",
              "\n",
              "  .colab-df-quickchart:hover {\n",
              "    background-color: var(--hover-bg-color);\n",
              "    box-shadow: 0 1px 2px rgba(60, 64, 67, 0.3), 0 1px 3px 1px rgba(60, 64, 67, 0.15);\n",
              "    fill: var(--button-hover-fill-color);\n",
              "  }\n",
              "\n",
              "  .colab-df-quickchart-complete:disabled,\n",
              "  .colab-df-quickchart-complete:disabled:hover {\n",
              "    background-color: var(--disabled-bg-color);\n",
              "    fill: var(--disabled-fill-color);\n",
              "    box-shadow: none;\n",
              "  }\n",
              "\n",
              "  .colab-df-spinner {\n",
              "    border: 2px solid var(--fill-color);\n",
              "    border-color: transparent;\n",
              "    border-bottom-color: var(--fill-color);\n",
              "    animation:\n",
              "      spin 1s steps(1) infinite;\n",
              "  }\n",
              "\n",
              "  @keyframes spin {\n",
              "    0% {\n",
              "      border-color: transparent;\n",
              "      border-bottom-color: var(--fill-color);\n",
              "      border-left-color: var(--fill-color);\n",
              "    }\n",
              "    20% {\n",
              "      border-color: transparent;\n",
              "      border-left-color: var(--fill-color);\n",
              "      border-top-color: var(--fill-color);\n",
              "    }\n",
              "    30% {\n",
              "      border-color: transparent;\n",
              "      border-left-color: var(--fill-color);\n",
              "      border-top-color: var(--fill-color);\n",
              "      border-right-color: var(--fill-color);\n",
              "    }\n",
              "    40% {\n",
              "      border-color: transparent;\n",
              "      border-right-color: var(--fill-color);\n",
              "      border-top-color: var(--fill-color);\n",
              "    }\n",
              "    60% {\n",
              "      border-color: transparent;\n",
              "      border-right-color: var(--fill-color);\n",
              "    }\n",
              "    80% {\n",
              "      border-color: transparent;\n",
              "      border-right-color: var(--fill-color);\n",
              "      border-bottom-color: var(--fill-color);\n",
              "    }\n",
              "    90% {\n",
              "      border-color: transparent;\n",
              "      border-bottom-color: var(--fill-color);\n",
              "    }\n",
              "  }\n",
              "</style>\n",
              "\n",
              "  <script>\n",
              "    async function quickchart(key) {\n",
              "      const quickchartButtonEl =\n",
              "        document.querySelector('#' + key + ' button');\n",
              "      quickchartButtonEl.disabled = true;  // To prevent multiple clicks.\n",
              "      quickchartButtonEl.classList.add('colab-df-spinner');\n",
              "      try {\n",
              "        const charts = await google.colab.kernel.invokeFunction(\n",
              "            'suggestCharts', [key], {});\n",
              "      } catch (error) {\n",
              "        console.error('Error during call to suggestCharts:', error);\n",
              "      }\n",
              "      quickchartButtonEl.classList.remove('colab-df-spinner');\n",
              "      quickchartButtonEl.classList.add('colab-df-quickchart-complete');\n",
              "    }\n",
              "    (() => {\n",
              "      let quickchartButtonEl =\n",
              "        document.querySelector('#df-7e87ee17-fd35-481c-be38-9c39dae30e0d button');\n",
              "      quickchartButtonEl.style.display =\n",
              "        google.colab.kernel.accessAllowed ? 'block' : 'none';\n",
              "    })();\n",
              "  </script>\n",
              "</div>\n",
              "    </div>\n",
              "  </div>\n"
            ]
          },
          "metadata": {},
          "execution_count": 5
        }
      ]
    },
    {
      "cell_type": "markdown",
      "source": [
        "## Нормализуйте данные, сделав 0 всегда хорошим, а 1 всегда плохим.\n",
        "Если значение `холестерина` или `глюка` равно 1, сделайте значение 0. Если значение больше 1, сделайте значение 1."
      ],
      "metadata": {
        "id": "hsw211OGrw90"
      },
      "id": "hsw211OGrw90"
    },
    {
      "cell_type": "code",
      "source": [
        "# используем словарь и функцию map() - котрая возвращат объект map(итератор)\n",
        "w = {1: 0, 2: 1, 3: 1} # создаем словарь\n",
        "df['cholesterol'] = df['cholesterol'].map(w) # применяем ф. map() для колонки cholesterol\n",
        "df['gluc'] = df['gluc'].map(w) # применяем ф. map() для колонки gluc\n",
        "df.head()"
      ],
      "metadata": {
        "colab": {
          "base_uri": "https://localhost:8080/",
          "height": 206
        },
        "id": "uAMgPm2Nruy8",
        "outputId": "fecff999-0e3d-488b-cc5d-2c90f79a2e87"
      },
      "id": "uAMgPm2Nruy8",
      "execution_count": 6,
      "outputs": [
        {
          "output_type": "execute_result",
          "data": {
            "text/plain": [
              "   id    age  sex  height  weight  ap_hi  ap_lo  cholesterol  gluc  smoke  \\\n",
              "0   0  18393    2     168    62.0    110     80            0     0      0   \n",
              "1   1  20228    1     156    85.0    140     90            1     0      0   \n",
              "2   2  18857    1     165    64.0    130     70            1     0      0   \n",
              "3   3  17623    2     169    82.0    150    100            0     0      0   \n",
              "4   4  17474    1     156    56.0    100     60            0     0      0   \n",
              "\n",
              "   alco  active  cardio  ex_weight  \n",
              "0     0       1       0          0  \n",
              "1     0       1       1          1  \n",
              "2     0       0       1          0  \n",
              "3     0       1       1          1  \n",
              "4     0       0       0          0  "
            ],
            "text/html": [
              "\n",
              "  <div id=\"df-7964eed2-7929-43da-bb2d-52f5030e97c5\" class=\"colab-df-container\">\n",
              "    <div>\n",
              "<style scoped>\n",
              "    .dataframe tbody tr th:only-of-type {\n",
              "        vertical-align: middle;\n",
              "    }\n",
              "\n",
              "    .dataframe tbody tr th {\n",
              "        vertical-align: top;\n",
              "    }\n",
              "\n",
              "    .dataframe thead th {\n",
              "        text-align: right;\n",
              "    }\n",
              "</style>\n",
              "<table border=\"1\" class=\"dataframe\">\n",
              "  <thead>\n",
              "    <tr style=\"text-align: right;\">\n",
              "      <th></th>\n",
              "      <th>id</th>\n",
              "      <th>age</th>\n",
              "      <th>sex</th>\n",
              "      <th>height</th>\n",
              "      <th>weight</th>\n",
              "      <th>ap_hi</th>\n",
              "      <th>ap_lo</th>\n",
              "      <th>cholesterol</th>\n",
              "      <th>gluc</th>\n",
              "      <th>smoke</th>\n",
              "      <th>alco</th>\n",
              "      <th>active</th>\n",
              "      <th>cardio</th>\n",
              "      <th>ex_weight</th>\n",
              "    </tr>\n",
              "  </thead>\n",
              "  <tbody>\n",
              "    <tr>\n",
              "      <th>0</th>\n",
              "      <td>0</td>\n",
              "      <td>18393</td>\n",
              "      <td>2</td>\n",
              "      <td>168</td>\n",
              "      <td>62.0</td>\n",
              "      <td>110</td>\n",
              "      <td>80</td>\n",
              "      <td>0</td>\n",
              "      <td>0</td>\n",
              "      <td>0</td>\n",
              "      <td>0</td>\n",
              "      <td>1</td>\n",
              "      <td>0</td>\n",
              "      <td>0</td>\n",
              "    </tr>\n",
              "    <tr>\n",
              "      <th>1</th>\n",
              "      <td>1</td>\n",
              "      <td>20228</td>\n",
              "      <td>1</td>\n",
              "      <td>156</td>\n",
              "      <td>85.0</td>\n",
              "      <td>140</td>\n",
              "      <td>90</td>\n",
              "      <td>1</td>\n",
              "      <td>0</td>\n",
              "      <td>0</td>\n",
              "      <td>0</td>\n",
              "      <td>1</td>\n",
              "      <td>1</td>\n",
              "      <td>1</td>\n",
              "    </tr>\n",
              "    <tr>\n",
              "      <th>2</th>\n",
              "      <td>2</td>\n",
              "      <td>18857</td>\n",
              "      <td>1</td>\n",
              "      <td>165</td>\n",
              "      <td>64.0</td>\n",
              "      <td>130</td>\n",
              "      <td>70</td>\n",
              "      <td>1</td>\n",
              "      <td>0</td>\n",
              "      <td>0</td>\n",
              "      <td>0</td>\n",
              "      <td>0</td>\n",
              "      <td>1</td>\n",
              "      <td>0</td>\n",
              "    </tr>\n",
              "    <tr>\n",
              "      <th>3</th>\n",
              "      <td>3</td>\n",
              "      <td>17623</td>\n",
              "      <td>2</td>\n",
              "      <td>169</td>\n",
              "      <td>82.0</td>\n",
              "      <td>150</td>\n",
              "      <td>100</td>\n",
              "      <td>0</td>\n",
              "      <td>0</td>\n",
              "      <td>0</td>\n",
              "      <td>0</td>\n",
              "      <td>1</td>\n",
              "      <td>1</td>\n",
              "      <td>1</td>\n",
              "    </tr>\n",
              "    <tr>\n",
              "      <th>4</th>\n",
              "      <td>4</td>\n",
              "      <td>17474</td>\n",
              "      <td>1</td>\n",
              "      <td>156</td>\n",
              "      <td>56.0</td>\n",
              "      <td>100</td>\n",
              "      <td>60</td>\n",
              "      <td>0</td>\n",
              "      <td>0</td>\n",
              "      <td>0</td>\n",
              "      <td>0</td>\n",
              "      <td>0</td>\n",
              "      <td>0</td>\n",
              "      <td>0</td>\n",
              "    </tr>\n",
              "  </tbody>\n",
              "</table>\n",
              "</div>\n",
              "    <div class=\"colab-df-buttons\">\n",
              "\n",
              "  <div class=\"colab-df-container\">\n",
              "    <button class=\"colab-df-convert\" onclick=\"convertToInteractive('df-7964eed2-7929-43da-bb2d-52f5030e97c5')\"\n",
              "            title=\"Convert this dataframe to an interactive table.\"\n",
              "            style=\"display:none;\">\n",
              "\n",
              "  <svg xmlns=\"http://www.w3.org/2000/svg\" height=\"24px\" viewBox=\"0 -960 960 960\">\n",
              "    <path d=\"M120-120v-720h720v720H120Zm60-500h600v-160H180v160Zm220 220h160v-160H400v160Zm0 220h160v-160H400v160ZM180-400h160v-160H180v160Zm440 0h160v-160H620v160ZM180-180h160v-160H180v160Zm440 0h160v-160H620v160Z\"/>\n",
              "  </svg>\n",
              "    </button>\n",
              "\n",
              "  <style>\n",
              "    .colab-df-container {\n",
              "      display:flex;\n",
              "      gap: 12px;\n",
              "    }\n",
              "\n",
              "    .colab-df-convert {\n",
              "      background-color: #E8F0FE;\n",
              "      border: none;\n",
              "      border-radius: 50%;\n",
              "      cursor: pointer;\n",
              "      display: none;\n",
              "      fill: #1967D2;\n",
              "      height: 32px;\n",
              "      padding: 0 0 0 0;\n",
              "      width: 32px;\n",
              "    }\n",
              "\n",
              "    .colab-df-convert:hover {\n",
              "      background-color: #E2EBFA;\n",
              "      box-shadow: 0px 1px 2px rgba(60, 64, 67, 0.3), 0px 1px 3px 1px rgba(60, 64, 67, 0.15);\n",
              "      fill: #174EA6;\n",
              "    }\n",
              "\n",
              "    .colab-df-buttons div {\n",
              "      margin-bottom: 4px;\n",
              "    }\n",
              "\n",
              "    [theme=dark] .colab-df-convert {\n",
              "      background-color: #3B4455;\n",
              "      fill: #D2E3FC;\n",
              "    }\n",
              "\n",
              "    [theme=dark] .colab-df-convert:hover {\n",
              "      background-color: #434B5C;\n",
              "      box-shadow: 0px 1px 3px 1px rgba(0, 0, 0, 0.15);\n",
              "      filter: drop-shadow(0px 1px 2px rgba(0, 0, 0, 0.3));\n",
              "      fill: #FFFFFF;\n",
              "    }\n",
              "  </style>\n",
              "\n",
              "    <script>\n",
              "      const buttonEl =\n",
              "        document.querySelector('#df-7964eed2-7929-43da-bb2d-52f5030e97c5 button.colab-df-convert');\n",
              "      buttonEl.style.display =\n",
              "        google.colab.kernel.accessAllowed ? 'block' : 'none';\n",
              "\n",
              "      async function convertToInteractive(key) {\n",
              "        const element = document.querySelector('#df-7964eed2-7929-43da-bb2d-52f5030e97c5');\n",
              "        const dataTable =\n",
              "          await google.colab.kernel.invokeFunction('convertToInteractive',\n",
              "                                                    [key], {});\n",
              "        if (!dataTable) return;\n",
              "\n",
              "        const docLinkHtml = 'Like what you see? Visit the ' +\n",
              "          '<a target=\"_blank\" href=https://colab.research.google.com/notebooks/data_table.ipynb>data table notebook</a>'\n",
              "          + ' to learn more about interactive tables.';\n",
              "        element.innerHTML = '';\n",
              "        dataTable['output_type'] = 'display_data';\n",
              "        await google.colab.output.renderOutput(dataTable, element);\n",
              "        const docLink = document.createElement('div');\n",
              "        docLink.innerHTML = docLinkHtml;\n",
              "        element.appendChild(docLink);\n",
              "      }\n",
              "    </script>\n",
              "  </div>\n",
              "\n",
              "\n",
              "<div id=\"df-760fc9eb-410a-4d94-af7c-c7ca65a77474\">\n",
              "  <button class=\"colab-df-quickchart\" onclick=\"quickchart('df-760fc9eb-410a-4d94-af7c-c7ca65a77474')\"\n",
              "            title=\"Suggest charts\"\n",
              "            style=\"display:none;\">\n",
              "\n",
              "<svg xmlns=\"http://www.w3.org/2000/svg\" height=\"24px\"viewBox=\"0 0 24 24\"\n",
              "     width=\"24px\">\n",
              "    <g>\n",
              "        <path d=\"M19 3H5c-1.1 0-2 .9-2 2v14c0 1.1.9 2 2 2h14c1.1 0 2-.9 2-2V5c0-1.1-.9-2-2-2zM9 17H7v-7h2v7zm4 0h-2V7h2v10zm4 0h-2v-4h2v4z\"/>\n",
              "    </g>\n",
              "</svg>\n",
              "  </button>\n",
              "\n",
              "<style>\n",
              "  .colab-df-quickchart {\n",
              "      --bg-color: #E8F0FE;\n",
              "      --fill-color: #1967D2;\n",
              "      --hover-bg-color: #E2EBFA;\n",
              "      --hover-fill-color: #174EA6;\n",
              "      --disabled-fill-color: #AAA;\n",
              "      --disabled-bg-color: #DDD;\n",
              "  }\n",
              "\n",
              "  [theme=dark] .colab-df-quickchart {\n",
              "      --bg-color: #3B4455;\n",
              "      --fill-color: #D2E3FC;\n",
              "      --hover-bg-color: #434B5C;\n",
              "      --hover-fill-color: #FFFFFF;\n",
              "      --disabled-bg-color: #3B4455;\n",
              "      --disabled-fill-color: #666;\n",
              "  }\n",
              "\n",
              "  .colab-df-quickchart {\n",
              "    background-color: var(--bg-color);\n",
              "    border: none;\n",
              "    border-radius: 50%;\n",
              "    cursor: pointer;\n",
              "    display: none;\n",
              "    fill: var(--fill-color);\n",
              "    height: 32px;\n",
              "    padding: 0;\n",
              "    width: 32px;\n",
              "  }\n",
              "\n",
              "  .colab-df-quickchart:hover {\n",
              "    background-color: var(--hover-bg-color);\n",
              "    box-shadow: 0 1px 2px rgba(60, 64, 67, 0.3), 0 1px 3px 1px rgba(60, 64, 67, 0.15);\n",
              "    fill: var(--button-hover-fill-color);\n",
              "  }\n",
              "\n",
              "  .colab-df-quickchart-complete:disabled,\n",
              "  .colab-df-quickchart-complete:disabled:hover {\n",
              "    background-color: var(--disabled-bg-color);\n",
              "    fill: var(--disabled-fill-color);\n",
              "    box-shadow: none;\n",
              "  }\n",
              "\n",
              "  .colab-df-spinner {\n",
              "    border: 2px solid var(--fill-color);\n",
              "    border-color: transparent;\n",
              "    border-bottom-color: var(--fill-color);\n",
              "    animation:\n",
              "      spin 1s steps(1) infinite;\n",
              "  }\n",
              "\n",
              "  @keyframes spin {\n",
              "    0% {\n",
              "      border-color: transparent;\n",
              "      border-bottom-color: var(--fill-color);\n",
              "      border-left-color: var(--fill-color);\n",
              "    }\n",
              "    20% {\n",
              "      border-color: transparent;\n",
              "      border-left-color: var(--fill-color);\n",
              "      border-top-color: var(--fill-color);\n",
              "    }\n",
              "    30% {\n",
              "      border-color: transparent;\n",
              "      border-left-color: var(--fill-color);\n",
              "      border-top-color: var(--fill-color);\n",
              "      border-right-color: var(--fill-color);\n",
              "    }\n",
              "    40% {\n",
              "      border-color: transparent;\n",
              "      border-right-color: var(--fill-color);\n",
              "      border-top-color: var(--fill-color);\n",
              "    }\n",
              "    60% {\n",
              "      border-color: transparent;\n",
              "      border-right-color: var(--fill-color);\n",
              "    }\n",
              "    80% {\n",
              "      border-color: transparent;\n",
              "      border-right-color: var(--fill-color);\n",
              "      border-bottom-color: var(--fill-color);\n",
              "    }\n",
              "    90% {\n",
              "      border-color: transparent;\n",
              "      border-bottom-color: var(--fill-color);\n",
              "    }\n",
              "  }\n",
              "</style>\n",
              "\n",
              "  <script>\n",
              "    async function quickchart(key) {\n",
              "      const quickchartButtonEl =\n",
              "        document.querySelector('#' + key + ' button');\n",
              "      quickchartButtonEl.disabled = true;  // To prevent multiple clicks.\n",
              "      quickchartButtonEl.classList.add('colab-df-spinner');\n",
              "      try {\n",
              "        const charts = await google.colab.kernel.invokeFunction(\n",
              "            'suggestCharts', [key], {});\n",
              "      } catch (error) {\n",
              "        console.error('Error during call to suggestCharts:', error);\n",
              "      }\n",
              "      quickchartButtonEl.classList.remove('colab-df-spinner');\n",
              "      quickchartButtonEl.classList.add('colab-df-quickchart-complete');\n",
              "    }\n",
              "    (() => {\n",
              "      let quickchartButtonEl =\n",
              "        document.querySelector('#df-760fc9eb-410a-4d94-af7c-c7ca65a77474 button');\n",
              "      quickchartButtonEl.style.display =\n",
              "        google.colab.kernel.accessAllowed ? 'block' : 'none';\n",
              "    })();\n",
              "  </script>\n",
              "</div>\n",
              "    </div>\n",
              "  </div>\n"
            ]
          },
          "metadata": {},
          "execution_count": 6
        }
      ]
    },
    {
      "cell_type": "markdown",
      "source": [
        "## Преобразуйте данные в длинный формат и создайте диаграмму.\n",
        "Диаграмма должна показывать количество значений категориальных признаков, используя функцию `catplot() Seaborn`. Набор данных должен быть разделен на `Cardio` , чтобы для каждого значения `Cardio` была одна диаграмма."
      ],
      "metadata": {
        "id": "FvFLKfg-r_f1"
      },
      "id": "FvFLKfg-r_f1"
    },
    {
      "cell_type": "code",
      "source": [
        "# используем функцию melt для построения графика\n",
        "df_m = df.melt(id_vars=['cardio'],\n",
        "                     value_vars=sorted(['cholesterol', 'gluc', 'smoke', 'alco', 'active', 'ex_weight']))\n",
        "\n",
        "# Задаем цвет для графика\n",
        "custom_palette = ['red', 'grey']\n",
        "\n",
        "# Создаем график\n",
        "sns.catplot(data=df_m, kind='count', x='variable', hue='value', col='cardio', palette=custom_palette)"
      ],
      "metadata": {
        "colab": {
          "base_uri": "https://localhost:8080/",
          "height": 525
        },
        "id": "l5uDkPOVtSgu",
        "outputId": "77067b69-7f94-40fe-90db-235d12e2e2c7"
      },
      "id": "l5uDkPOVtSgu",
      "execution_count": 25,
      "outputs": [
        {
          "output_type": "execute_result",
          "data": {
            "text/plain": [
              "<seaborn.axisgrid.FacetGrid at 0x7a8dd9af0e20>"
            ]
          },
          "metadata": {},
          "execution_count": 25
        },
        {
          "output_type": "display_data",
          "data": {
            "text/plain": [
              "<Figure size 1058.88x500 with 2 Axes>"
            ],
            "image/png": "[encoded data removed]"
          },
          "metadata": {}
        }
      ]
    },
    {
      "cell_type": "markdown",
      "source": [
        "## Очистите данные.\n",
        "Отфильтруйте следующие сегменты пациентов, которые представляют неверные данные:\n",
        "  * диастолическое давление выше систолического (сохраняйте правильные данные с помощью `(df['ap_lo'] <= df['ap_hi']))`\n",
        "  * высота меньше 2,5-го процентиля (сохраните правильные данные с помощью `(df['height'] >= df['height'].quantile(0.025)))`\n",
        "рост больше 97,5-го процентиля\n",
        "  * вес меньше 2,5-го процентиля\n",
        "  * вес больше 97,5-го процентиля"
      ],
      "metadata": {
        "id": "A3WIugXTxNU-"
      },
      "id": "A3WIugXTxNU-"
    },
    {
      "cell_type": "code",
      "source": [
        "df_heat = \\\n",
        "df[(df['ap_lo'] <= df['ap_hi']) &\n",
        "(df['height'] >= df['height'].quantile(0.025)) &\n",
        "(df['height'] <= df['height'].quantile(0.975)) &\n",
        "(df['weight'] >= df['weight'].quantile(0.025)) &\n",
        "(df['weight'] <= df['weight'].quantile(0.975))]\n",
        "df_heat"
      ],
      "metadata": {
        "colab": {
          "base_uri": "https://localhost:8080/",
          "height": 423
        },
        "id": "P2UGl9eisCd1",
        "outputId": "1b470b46-7781-468a-870d-f7de181c7b18"
      },
      "id": "P2UGl9eisCd1",
      "execution_count": 26,
      "outputs": [
        {
          "output_type": "execute_result",
          "data": {
            "text/plain": [
              "          id    age  sex  height  weight  ap_hi  ap_lo  cholesterol  gluc  \\\n",
              "0          0  18393    2     168    62.0    110     80            0     0   \n",
              "1          1  20228    1     156    85.0    140     90            1     0   \n",
              "2          2  18857    1     165    64.0    130     70            1     0   \n",
              "3          3  17623    2     169    82.0    150    100            0     0   \n",
              "4          4  17474    1     156    56.0    100     60            0     0   \n",
              "...      ...    ...  ...     ...     ...    ...    ...          ...   ...   \n",
              "69993  99991  19699    1     172    70.0    130     90            0     0   \n",
              "69994  99992  21074    1     165    80.0    150     80            0     0   \n",
              "69995  99993  19240    2     168    76.0    120     80            0     0   \n",
              "69998  99998  22431    1     163    72.0    135     80            0     1   \n",
              "69999  99999  20540    1     170    72.0    120     80            1     0   \n",
              "\n",
              "       smoke  alco  active  cardio  ex_weight  \n",
              "0          0     0       1       0          0  \n",
              "1          0     0       1       1          1  \n",
              "2          0     0       0       1          0  \n",
              "3          0     0       1       1          1  \n",
              "4          0     0       0       0          0  \n",
              "...      ...   ...     ...     ...        ...  \n",
              "69993      0     0       1       1          0  \n",
              "69994      0     0       1       1          1  \n",
              "69995      1     0       1       0          1  \n",
              "69998      0     0       0       1          1  \n",
              "69999      0     0       1       0          0  \n",
              "\n",
              "[63259 rows x 14 columns]"
            ],
            "text/html": [
              "\n",
              "  <div id=\"df-53a94558-fa8a-4d74-b670-59d668f5af29\" class=\"colab-df-container\">\n",
              "    <div>\n",
              "<style scoped>\n",
              "    .dataframe tbody tr th:only-of-type {\n",
              "        vertical-align: middle;\n",
              "    }\n",
              "\n",
              "    .dataframe tbody tr th {\n",
              "        vertical-align: top;\n",
              "    }\n",
              "\n",
              "    .dataframe thead th {\n",
              "        text-align: right;\n",
              "    }\n",
              "</style>\n",
              "<table border=\"1\" class=\"dataframe\">\n",
              "  <thead>\n",
              "    <tr style=\"text-align: right;\">\n",
              "      <th></th>\n",
              "      <th>id</th>\n",
              "      <th>age</th>\n",
              "      <th>sex</th>\n",
              "      <th>height</th>\n",
              "      <th>weight</th>\n",
              "      <th>ap_hi</th>\n",
              "      <th>ap_lo</th>\n",
              "      <th>cholesterol</th>\n",
              "      <th>gluc</th>\n",
              "      <th>smoke</th>\n",
              "      <th>alco</th>\n",
              "      <th>active</th>\n",
              "      <th>cardio</th>\n",
              "      <th>ex_weight</th>\n",
              "    </tr>\n",
              "  </thead>\n",
              "  <tbody>\n",
              "    <tr>\n",
              "      <th>0</th>\n",
              "      <td>0</td>\n",
              "      <td>18393</td>\n",
              "      <td>2</td>\n",
              "      <td>168</td>\n",
              "      <td>62.0</td>\n",
              "      <td>110</td>\n",
              "      <td>80</td>\n",
              "      <td>0</td>\n",
              "      <td>0</td>\n",
              "      <td>0</td>\n",
              "      <td>0</td>\n",
              "      <td>1</td>\n",
              "      <td>0</td>\n",
              "      <td>0</td>\n",
              "    </tr>\n",
              "    <tr>\n",
              "      <th>1</th>\n",
              "      <td>1</td>\n",
              "      <td>20228</td>\n",
              "      <td>1</td>\n",
              "      <td>156</td>\n",
              "      <td>85.0</td>\n",
              "      <td>140</td>\n",
              "      <td>90</td>\n",
              "      <td>1</td>\n",
              "      <td>0</td>\n",
              "      <td>0</td>\n",
              "      <td>0</td>\n",
              "      <td>1</td>\n",
              "      <td>1</td>\n",
              "      <td>1</td>\n",
              "    </tr>\n",
              "    <tr>\n",
              "      <th>2</th>\n",
              "      <td>2</td>\n",
              "      <td>18857</td>\n",
              "      <td>1</td>\n",
              "      <td>165</td>\n",
              "      <td>64.0</td>\n",
              "      <td>130</td>\n",
              "      <td>70</td>\n",
              "      <td>1</td>\n",
              "      <td>0</td>\n",
              "      <td>0</td>\n",
              "      <td>0</td>\n",
              "      <td>0</td>\n",
              "      <td>1</td>\n",
              "      <td>0</td>\n",
              "    </tr>\n",
              "    <tr>\n",
              "      <th>3</th>\n",
              "      <td>3</td>\n",
              "      <td>17623</td>\n",
              "      <td>2</td>\n",
              "      <td>169</td>\n",
              "      <td>82.0</td>\n",
              "      <td>150</td>\n",
              "      <td>100</td>\n",
              "      <td>0</td>\n",
              "      <td>0</td>\n",
              "      <td>0</td>\n",
              "      <td>0</td>\n",
              "      <td>1</td>\n",
              "      <td>1</td>\n",
              "      <td>1</td>\n",
              "    </tr>\n",
              "    <tr>\n",
              "      <th>4</th>\n",
              "      <td>4</td>\n",
              "      <td>17474</td>\n",
              "      <td>1</td>\n",
              "      <td>156</td>\n",
              "      <td>56.0</td>\n",
              "      <td>100</td>\n",
              "      <td>60</td>\n",
              "      <td>0</td>\n",
              "      <td>0</td>\n",
              "      <td>0</td>\n",
              "      <td>0</td>\n",
              "      <td>0</td>\n",
              "      <td>0</td>\n",
              "      <td>0</td>\n",
              "    </tr>\n",
              "    <tr>\n",
              "      <th>...</th>\n",
              "      <td>...</td>\n",
              "      <td>...</td>\n",
              "      <td>...</td>\n",
              "      <td>...</td>\n",
              "      <td>...</td>\n",
              "      <td>...</td>\n",
              "      <td>...</td>\n",
              "      <td>...</td>\n",
              "      <td>...</td>\n",
              "      <td>...</td>\n",
              "      <td>...</td>\n",
              "      <td>...</td>\n",
              "      <td>...</td>\n",
              "      <td>...</td>\n",
              "    </tr>\n",
              "    <tr>\n",
              "      <th>69993</th>\n",
              "      <td>99991</td>\n",
              "      <td>19699</td>\n",
              "      <td>1</td>\n",
              "      <td>172</td>\n",
              "      <td>70.0</td>\n",
              "      <td>130</td>\n",
              "      <td>90</td>\n",
              "      <td>0</td>\n",
              "      <td>0</td>\n",
              "      <td>0</td>\n",
              "      <td>0</td>\n",
              "      <td>1</td>\n",
              "      <td>1</td>\n",
              "      <td>0</td>\n",
              "    </tr>\n",
              "    <tr>\n",
              "      <th>69994</th>\n",
              "      <td>99992</td>\n",
              "      <td>21074</td>\n",
              "      <td>1</td>\n",
              "      <td>165</td>\n",
              "      <td>80.0</td>\n",
              "      <td>150</td>\n",
              "      <td>80</td>\n",
              "      <td>0</td>\n",
              "      <td>0</td>\n",
              "      <td>0</td>\n",
              "      <td>0</td>\n",
              "      <td>1</td>\n",
              "      <td>1</td>\n",
              "      <td>1</td>\n",
              "    </tr>\n",
              "    <tr>\n",
              "      <th>69995</th>\n",
              "      <td>99993</td>\n",
              "      <td>19240</td>\n",
              "      <td>2</td>\n",
              "      <td>168</td>\n",
              "      <td>76.0</td>\n",
              "      <td>120</td>\n",
              "      <td>80</td>\n",
              "      <td>0</td>\n",
              "      <td>0</td>\n",
              "      <td>1</td>\n",
              "      <td>0</td>\n",
              "      <td>1</td>\n",
              "      <td>0</td>\n",
              "      <td>1</td>\n",
              "    </tr>\n",
              "    <tr>\n",
              "      <th>69998</th>\n",
              "      <td>99998</td>\n",
              "      <td>22431</td>\n",
              "      <td>1</td>\n",
              "      <td>163</td>\n",
              "      <td>72.0</td>\n",
              "      <td>135</td>\n",
              "      <td>80</td>\n",
              "      <td>0</td>\n",
              "      <td>1</td>\n",
              "      <td>0</td>\n",
              "      <td>0</td>\n",
              "      <td>0</td>\n",
              "      <td>1</td>\n",
              "      <td>1</td>\n",
              "    </tr>\n",
              "    <tr>\n",
              "      <th>69999</th>\n",
              "      <td>99999</td>\n",
              "      <td>20540</td>\n",
              "      <td>1</td>\n",
              "      <td>170</td>\n",
              "      <td>72.0</td>\n",
              "      <td>120</td>\n",
              "      <td>80</td>\n",
              "      <td>1</td>\n",
              "      <td>0</td>\n",
              "      <td>0</td>\n",
              "      <td>0</td>\n",
              "      <td>1</td>\n",
              "      <td>0</td>\n",
              "      <td>0</td>\n",
              "    </tr>\n",
              "  </tbody>\n",
              "</table>\n",
              "<p>63259 rows × 14 columns</p>\n",
              "</div>\n",
              "    <div class=\"colab-df-buttons\">\n",
              "\n",
              "  <div class=\"colab-df-container\">\n",
              "    <button class=\"colab-df-convert\" onclick=\"convertToInteractive('df-53a94558-fa8a-4d74-b670-59d668f5af29')\"\n",
              "            title=\"Convert this dataframe to an interactive table.\"\n",
              "            style=\"display:none;\">\n",
              "\n",
              "  <svg xmlns=\"http://www.w3.org/2000/svg\" height=\"24px\" viewBox=\"0 -960 960 960\">\n",
              "    <path d=\"M120-120v-720h720v720H120Zm60-500h600v-160H180v160Zm220 220h160v-160H400v160Zm0 220h160v-160H400v160ZM180-400h160v-160H180v160Zm440 0h160v-160H620v160ZM180-180h160v-160H180v160Zm440 0h160v-160H620v160Z\"/>\n",
              "  </svg>\n",
              "    </button>\n",
              "\n",
              "  <style>\n",
              "    .colab-df-container {\n",
              "      display:flex;\n",
              "      gap: 12px;\n",
              "    }\n",
              "\n",
              "    .colab-df-convert {\n",
              "      background-color: #E8F0FE;\n",
              "      border: none;\n",
              "      border-radius: 50%;\n",
              "      cursor: pointer;\n",
              "      display: none;\n",
              "      fill: #1967D2;\n",
              "      height: 32px;\n",
              "      padding: 0 0 0 0;\n",
              "      width: 32px;\n",
              "    }\n",
              "\n",
              "    .colab-df-convert:hover {\n",
              "      background-color: #E2EBFA;\n",
              "      box-shadow: 0px 1px 2px rgba(60, 64, 67, 0.3), 0px 1px 3px 1px rgba(60, 64, 67, 0.15);\n",
              "      fill: #174EA6;\n",
              "    }\n",
              "\n",
              "    .colab-df-buttons div {\n",
              "      margin-bottom: 4px;\n",
              "    }\n",
              "\n",
              "    [theme=dark] .colab-df-convert {\n",
              "      background-color: #3B4455;\n",
              "      fill: #D2E3FC;\n",
              "    }\n",
              "\n",
              "    [theme=dark] .colab-df-convert:hover {\n",
              "      background-color: #434B5C;\n",
              "      box-shadow: 0px 1px 3px 1px rgba(0, 0, 0, 0.15);\n",
              "      filter: drop-shadow(0px 1px 2px rgba(0, 0, 0, 0.3));\n",
              "      fill: #FFFFFF;\n",
              "    }\n",
              "  </style>\n",
              "\n",
              "    <script>\n",
              "      const buttonEl =\n",
              "        document.querySelector('#df-53a94558-fa8a-4d74-b670-59d668f5af29 button.colab-df-convert');\n",
              "      buttonEl.style.display =\n",
              "        google.colab.kernel.accessAllowed ? 'block' : 'none';\n",
              "\n",
              "      async function convertToInteractive(key) {\n",
              "        const element = document.querySelector('#df-53a94558-fa8a-4d74-b670-59d668f5af29');\n",
              "        const dataTable =\n",
              "          await google.colab.kernel.invokeFunction('convertToInteractive',\n",
              "                                                    [key], {});\n",
              "        if (!dataTable) return;\n",
              "\n",
              "        const docLinkHtml = 'Like what you see? Visit the ' +\n",
              "          '<a target=\"_blank\" href=https://colab.research.google.com/notebooks/data_table.ipynb>data table notebook</a>'\n",
              "          + ' to learn more about interactive tables.';\n",
              "        element.innerHTML = '';\n",
              "        dataTable['output_type'] = 'display_data';\n",
              "        await google.colab.output.renderOutput(dataTable, element);\n",
              "        const docLink = document.createElement('div');\n",
              "        docLink.innerHTML = docLinkHtml;\n",
              "        element.appendChild(docLink);\n",
              "      }\n",
              "    </script>\n",
              "  </div>\n",
              "\n",
              "\n",
              "<div id=\"df-779d1eab-45cb-4d81-9ef7-8d31be0e5895\">\n",
              "  <button class=\"colab-df-quickchart\" onclick=\"quickchart('df-779d1eab-45cb-4d81-9ef7-8d31be0e5895')\"\n",
              "            title=\"Suggest charts\"\n",
              "            style=\"display:none;\">\n",
              "\n",
              "<svg xmlns=\"http://www.w3.org/2000/svg\" height=\"24px\"viewBox=\"0 0 24 24\"\n",
              "     width=\"24px\">\n",
              "    <g>\n",
              "        <path d=\"M19 3H5c-1.1 0-2 .9-2 2v14c0 1.1.9 2 2 2h14c1.1 0 2-.9 2-2V5c0-1.1-.9-2-2-2zM9 17H7v-7h2v7zm4 0h-2V7h2v10zm4 0h-2v-4h2v4z\"/>\n",
              "    </g>\n",
              "</svg>\n",
              "  </button>\n",
              "\n",
              "<style>\n",
              "  .colab-df-quickchart {\n",
              "      --bg-color: #E8F0FE;\n",
              "      --fill-color: #1967D2;\n",
              "      --hover-bg-color: #E2EBFA;\n",
              "      --hover-fill-color: #174EA6;\n",
              "      --disabled-fill-color: #AAA;\n",
              "      --disabled-bg-color: #DDD;\n",
              "  }\n",
              "\n",
              "  [theme=dark] .colab-df-quickchart {\n",
              "      --bg-color: #3B4455;\n",
              "      --fill-color: #D2E3FC;\n",
              "      --hover-bg-color: #434B5C;\n",
              "      --hover-fill-color: #FFFFFF;\n",
              "      --disabled-bg-color: #3B4455;\n",
              "      --disabled-fill-color: #666;\n",
              "  }\n",
              "\n",
              "  .colab-df-quickchart {\n",
              "    background-color: var(--bg-color);\n",
              "    border: none;\n",
              "    border-radius: 50%;\n",
              "    cursor: pointer;\n",
              "    display: none;\n",
              "    fill: var(--fill-color);\n",
              "    height: 32px;\n",
              "    padding: 0;\n",
              "    width: 32px;\n",
              "  }\n",
              "\n",
              "  .colab-df-quickchart:hover {\n",
              "    background-color: var(--hover-bg-color);\n",
              "    box-shadow: 0 1px 2px rgba(60, 64, 67, 0.3), 0 1px 3px 1px rgba(60, 64, 67, 0.15);\n",
              "    fill: var(--button-hover-fill-color);\n",
              "  }\n",
              "\n",
              "  .colab-df-quickchart-complete:disabled,\n",
              "  .colab-df-quickchart-complete:disabled:hover {\n",
              "    background-color: var(--disabled-bg-color);\n",
              "    fill: var(--disabled-fill-color);\n",
              "    box-shadow: none;\n",
              "  }\n",
              "\n",
              "  .colab-df-spinner {\n",
              "    border: 2px solid var(--fill-color);\n",
              "    border-color: transparent;\n",
              "    border-bottom-color: var(--fill-color);\n",
              "    animation:\n",
              "      spin 1s steps(1) infinite;\n",
              "  }\n",
              "\n",
              "  @keyframes spin {\n",
              "    0% {\n",
              "      border-color: transparent;\n",
              "      border-bottom-color: var(--fill-color);\n",
              "      border-left-color: var(--fill-color);\n",
              "    }\n",
              "    20% {\n",
              "      border-color: transparent;\n",
              "      border-left-color: var(--fill-color);\n",
              "      border-top-color: var(--fill-color);\n",
              "    }\n",
              "    30% {\n",
              "      border-color: transparent;\n",
              "      border-left-color: var(--fill-color);\n",
              "      border-top-color: var(--fill-color);\n",
              "      border-right-color: var(--fill-color);\n",
              "    }\n",
              "    40% {\n",
              "      border-color: transparent;\n",
              "      border-right-color: var(--fill-color);\n",
              "      border-top-color: var(--fill-color);\n",
              "    }\n",
              "    60% {\n",
              "      border-color: transparent;\n",
              "      border-right-color: var(--fill-color);\n",
              "    }\n",
              "    80% {\n",
              "      border-color: transparent;\n",
              "      border-right-color: var(--fill-color);\n",
              "      border-bottom-color: var(--fill-color);\n",
              "    }\n",
              "    90% {\n",
              "      border-color: transparent;\n",
              "      border-bottom-color: var(--fill-color);\n",
              "    }\n",
              "  }\n",
              "</style>\n",
              "\n",
              "  <script>\n",
              "    async function quickchart(key) {\n",
              "      const quickchartButtonEl =\n",
              "        document.querySelector('#' + key + ' button');\n",
              "      quickchartButtonEl.disabled = true;  // To prevent multiple clicks.\n",
              "      quickchartButtonEl.classList.add('colab-df-spinner');\n",
              "      try {\n",
              "        const charts = await google.colab.kernel.invokeFunction(\n",
              "            'suggestCharts', [key], {});\n",
              "      } catch (error) {\n",
              "        console.error('Error during call to suggestCharts:', error);\n",
              "      }\n",
              "      quickchartButtonEl.classList.remove('colab-df-spinner');\n",
              "      quickchartButtonEl.classList.add('colab-df-quickchart-complete');\n",
              "    }\n",
              "    (() => {\n",
              "      let quickchartButtonEl =\n",
              "        document.querySelector('#df-779d1eab-45cb-4d81-9ef7-8d31be0e5895 button');\n",
              "      quickchartButtonEl.style.display =\n",
              "        google.colab.kernel.accessAllowed ? 'block' : 'none';\n",
              "    })();\n",
              "  </script>\n",
              "</div>\n",
              "    </div>\n",
              "  </div>\n"
            ]
          },
          "metadata": {},
          "execution_count": 26
        }
      ]
    },
    {
      "cell_type": "markdown",
      "source": [
        "## Создайте матрицу корреляции, используя набор данных.\n",
        " Постройте матрицу корреляции, используя тепловую карту `Seaborn()`. Замаскируйте верхний треугольник."
      ],
      "metadata": {
        "id": "5s_44V15xU0u"
      },
      "id": "5s_44V15xU0u"
    },
    {
      "cell_type": "code",
      "source": [
        "# рассчитаем корреляционную матрицу\n",
        "corr_heat = df_heat.corr()\n",
        "corr_heat"
      ],
      "metadata": {
        "colab": {
          "base_uri": "https://localhost:8080/",
          "height": 508
        },
        "id": "tsha0TQCxVpE",
        "outputId": "8ffc7982-436c-4b6b-99e3-9298196f3cc8"
      },
      "id": "tsha0TQCxVpE",
      "execution_count": 27,
      "outputs": [
        {
          "output_type": "execute_result",
          "data": {
            "text/plain": [
              "                   id       age       sex    height    weight     ap_hi  \\\n",
              "id           1.000000  0.002507  0.003426  0.000326  0.000149  0.003492   \n",
              "age          0.002507  1.000000 -0.018132 -0.076932  0.070168  0.018689   \n",
              "sex          0.003426 -0.018132  1.000000  0.505785  0.129979  0.005063   \n",
              "height       0.000326 -0.076932  0.505785  1.000000  0.251503  0.004586   \n",
              "weight       0.000149  0.070168  0.129979  0.251503  1.000000  0.027030   \n",
              "ap_hi        0.003492  0.018689  0.005063  0.004586  0.027030  1.000000   \n",
              "ap_lo        0.000484  0.153508  0.059947  0.017922  0.227922  0.072803   \n",
              "cholesterol  0.003719  0.129996 -0.037605 -0.063522  0.135981  0.022807   \n",
              "gluc         0.002289  0.086990 -0.021357 -0.030469  0.107072  0.011111   \n",
              "smoke       -0.002732 -0.044371  0.337436  0.187830  0.056533 -0.001928   \n",
              "alco        -0.000708 -0.026970  0.168637  0.089785  0.059917  0.000769   \n",
              "active       0.005891 -0.011445  0.007864 -0.005661 -0.014430 -0.000222   \n",
              "cardio       0.003900  0.240241  0.002320 -0.024102  0.170042  0.050556   \n",
              "ex_weight   -0.000679  0.089573 -0.052930 -0.149570  0.655926  0.017327   \n",
              "\n",
              "                ap_lo  cholesterol      gluc     smoke      alco    active  \\\n",
              "id           0.000484     0.003719  0.002289 -0.002732 -0.000708  0.005891   \n",
              "age          0.153508     0.129996  0.086990 -0.044371 -0.026970 -0.011445   \n",
              "sex          0.059947    -0.037605 -0.021357  0.337436  0.168637  0.007864   \n",
              "height       0.017922    -0.063522 -0.030469  0.187830  0.089785 -0.005661   \n",
              "weight       0.227922     0.135981  0.107072  0.056533  0.059917 -0.014430   \n",
              "ap_hi        0.072803     0.022807  0.011111 -0.001928  0.000769 -0.000222   \n",
              "ap_lo        1.000000     0.150362  0.074840  0.023275  0.033042  0.001569   \n",
              "cholesterol  0.150362     1.000000  0.383743  0.012680  0.038446  0.002494   \n",
              "gluc         0.074840     0.383743  1.000000 -0.004157  0.014297 -0.010145   \n",
              "smoke        0.023275     0.012680 -0.004157  1.000000  0.341200  0.026940   \n",
              "alco         0.033042     0.038446  0.014297  0.341200  1.000000  0.025847   \n",
              "active       0.001569     0.002494 -0.010145  0.026940  0.025847  1.000000   \n",
              "cardio       0.327181     0.203467  0.088445 -0.020345 -0.011088 -0.037339   \n",
              "ex_weight    0.172212     0.127986  0.088109 -0.003274  0.025056 -0.003387   \n",
              "\n",
              "               cardio  ex_weight  \n",
              "id           0.003900  -0.000679  \n",
              "age          0.240241   0.089573  \n",
              "sex          0.002320  -0.052930  \n",
              "height      -0.024102  -0.149570  \n",
              "weight       0.170042   0.655926  \n",
              "ap_hi        0.050556   0.017327  \n",
              "ap_lo        0.327181   0.172212  \n",
              "cholesterol  0.203467   0.127986  \n",
              "gluc         0.088445   0.088109  \n",
              "smoke       -0.020345  -0.003274  \n",
              "alco        -0.011088   0.025056  \n",
              "active      -0.037339  -0.003387  \n",
              "cardio       1.000000   0.143168  \n",
              "ex_weight    0.143168   1.000000  "
            ],
            "text/html": [
              "\n",
              "  <div id=\"df-01b48dd5-ad6a-401e-b68e-37f2195ee616\" class=\"colab-df-container\">\n",
              "    <div>\n",
              "<style scoped>\n",
              "    .dataframe tbody tr th:only-of-type {\n",
              "        vertical-align: middle;\n",
              "    }\n",
              "\n",
              "    .dataframe tbody tr th {\n",
              "        vertical-align: top;\n",
              "    }\n",
              "\n",
              "    .dataframe thead th {\n",
              "        text-align: right;\n",
              "    }\n",
              "</style>\n",
              "<table border=\"1\" class=\"dataframe\">\n",
              "  <thead>\n",
              "    <tr style=\"text-align: right;\">\n",
              "      <th></th>\n",
              "      <th>id</th>\n",
              "      <th>age</th>\n",
              "      <th>sex</th>\n",
              "      <th>height</th>\n",
              "      <th>weight</th>\n",
              "      <th>ap_hi</th>\n",
              "      <th>ap_lo</th>\n",
              "      <th>cholesterol</th>\n",
              "      <th>gluc</th>\n",
              "      <th>smoke</th>\n",
              "      <th>alco</th>\n",
              "      <th>active</th>\n",
              "      <th>cardio</th>\n",
              "      <th>ex_weight</th>\n",
              "    </tr>\n",
              "  </thead>\n",
              "  <tbody>\n",
              "    <tr>\n",
              "      <th>id</th>\n",
              "      <td>1.000000</td>\n",
              "      <td>0.002507</td>\n",
              "      <td>0.003426</td>\n",
              "      <td>0.000326</td>\n",
              "      <td>0.000149</td>\n",
              "      <td>0.003492</td>\n",
              "      <td>0.000484</td>\n",
              "      <td>0.003719</td>\n",
              "      <td>0.002289</td>\n",
              "      <td>-0.002732</td>\n",
              "      <td>-0.000708</td>\n",
              "      <td>0.005891</td>\n",
              "      <td>0.003900</td>\n",
              "      <td>-0.000679</td>\n",
              "    </tr>\n",
              "    <tr>\n",
              "      <th>age</th>\n",
              "      <td>0.002507</td>\n",
              "      <td>1.000000</td>\n",
              "      <td>-0.018132</td>\n",
              "      <td>-0.076932</td>\n",
              "      <td>0.070168</td>\n",
              "      <td>0.018689</td>\n",
              "      <td>0.153508</td>\n",
              "      <td>0.129996</td>\n",
              "      <td>0.086990</td>\n",
              "      <td>-0.044371</td>\n",
              "      <td>-0.026970</td>\n",
              "      <td>-0.011445</td>\n",
              "      <td>0.240241</td>\n",
              "      <td>0.089573</td>\n",
              "    </tr>\n",
              "    <tr>\n",
              "      <th>sex</th>\n",
              "      <td>0.003426</td>\n",
              "      <td>-0.018132</td>\n",
              "      <td>1.000000</td>\n",
              "      <td>0.505785</td>\n",
              "      <td>0.129979</td>\n",
              "      <td>0.005063</td>\n",
              "      <td>0.059947</td>\n",
              "      <td>-0.037605</td>\n",
              "      <td>-0.021357</td>\n",
              "      <td>0.337436</td>\n",
              "      <td>0.168637</td>\n",
              "      <td>0.007864</td>\n",
              "      <td>0.002320</td>\n",
              "      <td>-0.052930</td>\n",
              "    </tr>\n",
              "    <tr>\n",
              "      <th>height</th>\n",
              "      <td>0.000326</td>\n",
              "      <td>-0.076932</td>\n",
              "      <td>0.505785</td>\n",
              "      <td>1.000000</td>\n",
              "      <td>0.251503</td>\n",
              "      <td>0.004586</td>\n",
              "      <td>0.017922</td>\n",
              "      <td>-0.063522</td>\n",
              "      <td>-0.030469</td>\n",
              "      <td>0.187830</td>\n",
              "      <td>0.089785</td>\n",
              "      <td>-0.005661</td>\n",
              "      <td>-0.024102</td>\n",
              "      <td>-0.149570</td>\n",
              "    </tr>\n",
              "    <tr>\n",
              "      <th>weight</th>\n",
              "      <td>0.000149</td>\n",
              "      <td>0.070168</td>\n",
              "      <td>0.129979</td>\n",
              "      <td>0.251503</td>\n",
              "      <td>1.000000</td>\n",
              "      <td>0.027030</td>\n",
              "      <td>0.227922</td>\n",
              "      <td>0.135981</td>\n",
              "      <td>0.107072</td>\n",
              "      <td>0.056533</td>\n",
              "      <td>0.059917</td>\n",
              "      <td>-0.014430</td>\n",
              "      <td>0.170042</td>\n",
              "      <td>0.655926</td>\n",
              "    </tr>\n",
              "    <tr>\n",
              "      <th>ap_hi</th>\n",
              "      <td>0.003492</td>\n",
              "      <td>0.018689</td>\n",
              "      <td>0.005063</td>\n",
              "      <td>0.004586</td>\n",
              "      <td>0.027030</td>\n",
              "      <td>1.000000</td>\n",
              "      <td>0.072803</td>\n",
              "      <td>0.022807</td>\n",
              "      <td>0.011111</td>\n",
              "      <td>-0.001928</td>\n",
              "      <td>0.000769</td>\n",
              "      <td>-0.000222</td>\n",
              "      <td>0.050556</td>\n",
              "      <td>0.017327</td>\n",
              "    </tr>\n",
              "    <tr>\n",
              "      <th>ap_lo</th>\n",
              "      <td>0.000484</td>\n",
              "      <td>0.153508</td>\n",
              "      <td>0.059947</td>\n",
              "      <td>0.017922</td>\n",
              "      <td>0.227922</td>\n",
              "      <td>0.072803</td>\n",
              "      <td>1.000000</td>\n",
              "      <td>0.150362</td>\n",
              "      <td>0.074840</td>\n",
              "      <td>0.023275</td>\n",
              "      <td>0.033042</td>\n",
              "      <td>0.001569</td>\n",
              "      <td>0.327181</td>\n",
              "      <td>0.172212</td>\n",
              "    </tr>\n",
              "    <tr>\n",
              "      <th>cholesterol</th>\n",
              "      <td>0.003719</td>\n",
              "      <td>0.129996</td>\n",
              "      <td>-0.037605</td>\n",
              "      <td>-0.063522</td>\n",
              "      <td>0.135981</td>\n",
              "      <td>0.022807</td>\n",
              "      <td>0.150362</td>\n",
              "      <td>1.000000</td>\n",
              "      <td>0.383743</td>\n",
              "      <td>0.012680</td>\n",
              "      <td>0.038446</td>\n",
              "      <td>0.002494</td>\n",
              "      <td>0.203467</td>\n",
              "      <td>0.127986</td>\n",
              "    </tr>\n",
              "    <tr>\n",
              "      <th>gluc</th>\n",
              "      <td>0.002289</td>\n",
              "      <td>0.086990</td>\n",
              "      <td>-0.021357</td>\n",
              "      <td>-0.030469</td>\n",
              "      <td>0.107072</td>\n",
              "      <td>0.011111</td>\n",
              "      <td>0.074840</td>\n",
              "      <td>0.383743</td>\n",
              "      <td>1.000000</td>\n",
              "      <td>-0.004157</td>\n",
              "      <td>0.014297</td>\n",
              "      <td>-0.010145</td>\n",
              "      <td>0.088445</td>\n",
              "      <td>0.088109</td>\n",
              "    </tr>\n",
              "    <tr>\n",
              "      <th>smoke</th>\n",
              "      <td>-0.002732</td>\n",
              "      <td>-0.044371</td>\n",
              "      <td>0.337436</td>\n",
              "      <td>0.187830</td>\n",
              "      <td>0.056533</td>\n",
              "      <td>-0.001928</td>\n",
              "      <td>0.023275</td>\n",
              "      <td>0.012680</td>\n",
              "      <td>-0.004157</td>\n",
              "      <td>1.000000</td>\n",
              "      <td>0.341200</td>\n",
              "      <td>0.026940</td>\n",
              "      <td>-0.020345</td>\n",
              "      <td>-0.003274</td>\n",
              "    </tr>\n",
              "    <tr>\n",
              "      <th>alco</th>\n",
              "      <td>-0.000708</td>\n",
              "      <td>-0.026970</td>\n",
              "      <td>0.168637</td>\n",
              "      <td>0.089785</td>\n",
              "      <td>0.059917</td>\n",
              "      <td>0.000769</td>\n",
              "      <td>0.033042</td>\n",
              "      <td>0.038446</td>\n",
              "      <td>0.014297</td>\n",
              "      <td>0.341200</td>\n",
              "      <td>1.000000</td>\n",
              "      <td>0.025847</td>\n",
              "      <td>-0.011088</td>\n",
              "      <td>0.025056</td>\n",
              "    </tr>\n",
              "    <tr>\n",
              "      <th>active</th>\n",
              "      <td>0.005891</td>\n",
              "      <td>-0.011445</td>\n",
              "      <td>0.007864</td>\n",
              "      <td>-0.005661</td>\n",
              "      <td>-0.014430</td>\n",
              "      <td>-0.000222</td>\n",
              "      <td>0.001569</td>\n",
              "      <td>0.002494</td>\n",
              "      <td>-0.010145</td>\n",
              "      <td>0.026940</td>\n",
              "      <td>0.025847</td>\n",
              "      <td>1.000000</td>\n",
              "      <td>-0.037339</td>\n",
              "      <td>-0.003387</td>\n",
              "    </tr>\n",
              "    <tr>\n",
              "      <th>cardio</th>\n",
              "      <td>0.003900</td>\n",
              "      <td>0.240241</td>\n",
              "      <td>0.002320</td>\n",
              "      <td>-0.024102</td>\n",
              "      <td>0.170042</td>\n",
              "      <td>0.050556</td>\n",
              "      <td>0.327181</td>\n",
              "      <td>0.203467</td>\n",
              "      <td>0.088445</td>\n",
              "      <td>-0.020345</td>\n",
              "      <td>-0.011088</td>\n",
              "      <td>-0.037339</td>\n",
              "      <td>1.000000</td>\n",
              "      <td>0.143168</td>\n",
              "    </tr>\n",
              "    <tr>\n",
              "      <th>ex_weight</th>\n",
              "      <td>-0.000679</td>\n",
              "      <td>0.089573</td>\n",
              "      <td>-0.052930</td>\n",
              "      <td>-0.149570</td>\n",
              "      <td>0.655926</td>\n",
              "      <td>0.017327</td>\n",
              "      <td>0.172212</td>\n",
              "      <td>0.127986</td>\n",
              "      <td>0.088109</td>\n",
              "      <td>-0.003274</td>\n",
              "      <td>0.025056</td>\n",
              "      <td>-0.003387</td>\n",
              "      <td>0.143168</td>\n",
              "      <td>1.000000</td>\n",
              "    </tr>\n",
              "  </tbody>\n",
              "</table>\n",
              "</div>\n",
              "    <div class=\"colab-df-buttons\">\n",
              "\n",
              "  <div class=\"colab-df-container\">\n",
              "    <button class=\"colab-df-convert\" onclick=\"convertToInteractive('df-01b48dd5-ad6a-401e-b68e-37f2195ee616')\"\n",
              "            title=\"Convert this dataframe to an interactive table.\"\n",
              "            style=\"display:none;\">\n",
              "\n",
              "  <svg xmlns=\"http://www.w3.org/2000/svg\" height=\"24px\" viewBox=\"0 -960 960 960\">\n",
              "    <path d=\"M120-120v-720h720v720H120Zm60-500h600v-160H180v160Zm220 220h160v-160H400v160Zm0 220h160v-160H400v160ZM180-400h160v-160H180v160Zm440 0h160v-160H620v160ZM180-180h160v-160H180v160Zm440 0h160v-160H620v160Z\"/>\n",
              "  </svg>\n",
              "    </button>\n",
              "\n",
              "  <style>\n",
              "    .colab-df-container {\n",
              "      display:flex;\n",
              "      gap: 12px;\n",
              "    }\n",
              "\n",
              "    .colab-df-convert {\n",
              "      background-color: #E8F0FE;\n",
              "      border: none;\n",
              "      border-radius: 50%;\n",
              "      cursor: pointer;\n",
              "      display: none;\n",
              "      fill: #1967D2;\n",
              "      height: 32px;\n",
              "      padding: 0 0 0 0;\n",
              "      width: 32px;\n",
              "    }\n",
              "\n",
              "    .colab-df-convert:hover {\n",
              "      background-color: #E2EBFA;\n",
              "      box-shadow: 0px 1px 2px rgba(60, 64, 67, 0.3), 0px 1px 3px 1px rgba(60, 64, 67, 0.15);\n",
              "      fill: #174EA6;\n",
              "    }\n",
              "\n",
              "    .colab-df-buttons div {\n",
              "      margin-bottom: 4px;\n",
              "    }\n",
              "\n",
              "    [theme=dark] .colab-df-convert {\n",
              "      background-color: #3B4455;\n",
              "      fill: #D2E3FC;\n",
              "    }\n",
              "\n",
              "    [theme=dark] .colab-df-convert:hover {\n",
              "      background-color: #434B5C;\n",
              "      box-shadow: 0px 1px 3px 1px rgba(0, 0, 0, 0.15);\n",
              "      filter: drop-shadow(0px 1px 2px rgba(0, 0, 0, 0.3));\n",
              "      fill: #FFFFFF;\n",
              "    }\n",
              "  </style>\n",
              "\n",
              "    <script>\n",
              "      const buttonEl =\n",
              "        document.querySelector('#df-01b48dd5-ad6a-401e-b68e-37f2195ee616 button.colab-df-convert');\n",
              "      buttonEl.style.display =\n",
              "        google.colab.kernel.accessAllowed ? 'block' : 'none';\n",
              "\n",
              "      async function convertToInteractive(key) {\n",
              "        const element = document.querySelector('#df-01b48dd5-ad6a-401e-b68e-37f2195ee616');\n",
              "        const dataTable =\n",
              "          await google.colab.kernel.invokeFunction('convertToInteractive',\n",
              "                                                    [key], {});\n",
              "        if (!dataTable) return;\n",
              "\n",
              "        const docLinkHtml = 'Like what you see? Visit the ' +\n",
              "          '<a target=\"_blank\" href=https://colab.research.google.com/notebooks/data_table.ipynb>data table notebook</a>'\n",
              "          + ' to learn more about interactive tables.';\n",
              "        element.innerHTML = '';\n",
              "        dataTable['output_type'] = 'display_data';\n",
              "        await google.colab.output.renderOutput(dataTable, element);\n",
              "        const docLink = document.createElement('div');\n",
              "        docLink.innerHTML = docLinkHtml;\n",
              "        element.appendChild(docLink);\n",
              "      }\n",
              "    </script>\n",
              "  </div>\n",
              "\n",
              "\n",
              "<div id=\"df-319aaeb2-ee7e-43c1-a230-970f14828a6c\">\n",
              "  <button class=\"colab-df-quickchart\" onclick=\"quickchart('df-319aaeb2-ee7e-43c1-a230-970f14828a6c')\"\n",
              "            title=\"Suggest charts\"\n",
              "            style=\"display:none;\">\n",
              "\n",
              "<svg xmlns=\"http://www.w3.org/2000/svg\" height=\"24px\"viewBox=\"0 0 24 24\"\n",
              "     width=\"24px\">\n",
              "    <g>\n",
              "        <path d=\"M19 3H5c-1.1 0-2 .9-2 2v14c0 1.1.9 2 2 2h14c1.1 0 2-.9 2-2V5c0-1.1-.9-2-2-2zM9 17H7v-7h2v7zm4 0h-2V7h2v10zm4 0h-2v-4h2v4z\"/>\n",
              "    </g>\n",
              "</svg>\n",
              "  </button>\n",
              "\n",
              "<style>\n",
              "  .colab-df-quickchart {\n",
              "      --bg-color: #E8F0FE;\n",
              "      --fill-color: #1967D2;\n",
              "      --hover-bg-color: #E2EBFA;\n",
              "      --hover-fill-color: #174EA6;\n",
              "      --disabled-fill-color: #AAA;\n",
              "      --disabled-bg-color: #DDD;\n",
              "  }\n",
              "\n",
              "  [theme=dark] .colab-df-quickchart {\n",
              "      --bg-color: #3B4455;\n",
              "      --fill-color: #D2E3FC;\n",
              "      --hover-bg-color: #434B5C;\n",
              "      --hover-fill-color: #FFFFFF;\n",
              "      --disabled-bg-color: #3B4455;\n",
              "      --disabled-fill-color: #666;\n",
              "  }\n",
              "\n",
              "  .colab-df-quickchart {\n",
              "    background-color: var(--bg-color);\n",
              "    border: none;\n",
              "    border-radius: 50%;\n",
              "    cursor: pointer;\n",
              "    display: none;\n",
              "    fill: var(--fill-color);\n",
              "    height: 32px;\n",
              "    padding: 0;\n",
              "    width: 32px;\n",
              "  }\n",
              "\n",
              "  .colab-df-quickchart:hover {\n",
              "    background-color: var(--hover-bg-color);\n",
              "    box-shadow: 0 1px 2px rgba(60, 64, 67, 0.3), 0 1px 3px 1px rgba(60, 64, 67, 0.15);\n",
              "    fill: var(--button-hover-fill-color);\n",
              "  }\n",
              "\n",
              "  .colab-df-quickchart-complete:disabled,\n",
              "  .colab-df-quickchart-complete:disabled:hover {\n",
              "    background-color: var(--disabled-bg-color);\n",
              "    fill: var(--disabled-fill-color);\n",
              "    box-shadow: none;\n",
              "  }\n",
              "\n",
              "  .colab-df-spinner {\n",
              "    border: 2px solid var(--fill-color);\n",
              "    border-color: transparent;\n",
              "    border-bottom-color: var(--fill-color);\n",
              "    animation:\n",
              "      spin 1s steps(1) infinite;\n",
              "  }\n",
              "\n",
              "  @keyframes spin {\n",
              "    0% {\n",
              "      border-color: transparent;\n",
              "      border-bottom-color: var(--fill-color);\n",
              "      border-left-color: var(--fill-color);\n",
              "    }\n",
              "    20% {\n",
              "      border-color: transparent;\n",
              "      border-left-color: var(--fill-color);\n",
              "      border-top-color: var(--fill-color);\n",
              "    }\n",
              "    30% {\n",
              "      border-color: transparent;\n",
              "      border-left-color: var(--fill-color);\n",
              "      border-top-color: var(--fill-color);\n",
              "      border-right-color: var(--fill-color);\n",
              "    }\n",
              "    40% {\n",
              "      border-color: transparent;\n",
              "      border-right-color: var(--fill-color);\n",
              "      border-top-color: var(--fill-color);\n",
              "    }\n",
              "    60% {\n",
              "      border-color: transparent;\n",
              "      border-right-color: var(--fill-color);\n",
              "    }\n",
              "    80% {\n",
              "      border-color: transparent;\n",
              "      border-right-color: var(--fill-color);\n",
              "      border-bottom-color: var(--fill-color);\n",
              "    }\n",
              "    90% {\n",
              "      border-color: transparent;\n",
              "      border-bottom-color: var(--fill-color);\n",
              "    }\n",
              "  }\n",
              "</style>\n",
              "\n",
              "  <script>\n",
              "    async function quickchart(key) {\n",
              "      const quickchartButtonEl =\n",
              "        document.querySelector('#' + key + ' button');\n",
              "      quickchartButtonEl.disabled = true;  // To prevent multiple clicks.\n",
              "      quickchartButtonEl.classList.add('colab-df-spinner');\n",
              "      try {\n",
              "        const charts = await google.colab.kernel.invokeFunction(\n",
              "            'suggestCharts', [key], {});\n",
              "      } catch (error) {\n",
              "        console.error('Error during call to suggestCharts:', error);\n",
              "      }\n",
              "      quickchartButtonEl.classList.remove('colab-df-spinner');\n",
              "      quickchartButtonEl.classList.add('colab-df-quickchart-complete');\n",
              "    }\n",
              "    (() => {\n",
              "      let quickchartButtonEl =\n",
              "        document.querySelector('#df-319aaeb2-ee7e-43c1-a230-970f14828a6c button');\n",
              "      quickchartButtonEl.style.display =\n",
              "        google.colab.kernel.accessAllowed ? 'block' : 'none';\n",
              "    })();\n",
              "  </script>\n",
              "</div>\n",
              "    </div>\n",
              "  </div>\n"
            ]
          },
          "metadata": {},
          "execution_count": 27
        }
      ]
    },
    {
      "cell_type": "code",
      "source": [
        "# создадим маску для верхнего треугольника\n",
        "# triu() является методом в NumPy, который возвращает нижний треугольник любой заданной ему матрицы\n",
        "mask = np.triu(corr_heat)\n",
        "mask"
      ],
      "metadata": {
        "colab": {
          "base_uri": "https://localhost:8080/"
        },
        "id": "0CG70rv0xbVG",
        "outputId": "3aa9f4fc-a1a5-49c5-b4c9-3aea0583fa38"
      },
      "id": "0CG70rv0xbVG",
      "execution_count": 28,
      "outputs": [
        {
          "output_type": "execute_result",
          "data": {
            "text/plain": [
              "array([[ 1.00000000e+00,  2.50729691e-03,  3.42610273e-03,\n",
              "         3.25916709e-04,  1.49333224e-04,  3.49238023e-03,\n",
              "         4.83670793e-04,  3.71939143e-03,  2.28909034e-03,\n",
              "        -2.73227725e-03, -7.08059804e-04,  5.89114223e-03,\n",
              "         3.90011059e-03, -6.79420314e-04],\n",
              "       [ 0.00000000e+00,  1.00000000e+00, -1.81320052e-02,\n",
              "        -7.69318347e-02,  7.01683896e-02,  1.86894095e-02,\n",
              "         1.53507973e-01,  1.29996176e-01,  8.69901449e-02,\n",
              "        -4.43706471e-02, -2.69695382e-02, -1.14451266e-02,\n",
              "         2.40241089e-01,  8.95726547e-02],\n",
              "       [ 0.00000000e+00,  0.00000000e+00,  1.00000000e+00,\n",
              "         5.05784851e-01,  1.29979320e-01,  5.06250408e-03,\n",
              "         5.99466484e-02, -3.76050443e-02, -2.13573847e-02,\n",
              "         3.37435881e-01,  1.68637124e-01,  7.86370242e-03,\n",
              "         2.31999158e-03, -5.29296848e-02],\n",
              "       [ 0.00000000e+00,  0.00000000e+00,  0.00000000e+00,\n",
              "         1.00000000e+00,  2.51502865e-01,  4.58573625e-03,\n",
              "         1.79224331e-02, -6.35217890e-02, -3.04690159e-02,\n",
              "         1.87829575e-01,  8.97850523e-02, -5.66147972e-03,\n",
              "        -2.41019167e-02, -1.49569820e-01],\n",
              "       [ 0.00000000e+00,  0.00000000e+00,  0.00000000e+00,\n",
              "         0.00000000e+00,  1.00000000e+00,  2.70301864e-02,\n",
              "         2.27921644e-01,  1.35980961e-01,  1.07071633e-01,\n",
              "         5.65328321e-02,  5.99166585e-02, -1.44302415e-02,\n",
              "         1.70041786e-01,  6.55925735e-01],\n",
              "       [ 0.00000000e+00,  0.00000000e+00,  0.00000000e+00,\n",
              "         0.00000000e+00,  0.00000000e+00,  1.00000000e+00,\n",
              "         7.28027646e-02,  2.28068897e-02,  1.11111745e-02,\n",
              "        -1.92773034e-03,  7.69214083e-04, -2.22293525e-04,\n",
              "         5.05559101e-02,  1.73269545e-02],\n",
              "       [ 0.00000000e+00,  0.00000000e+00,  0.00000000e+00,\n",
              "         0.00000000e+00,  0.00000000e+00,  0.00000000e+00,\n",
              "         1.00000000e+00,  1.50361776e-01,  7.48402275e-02,\n",
              "         2.32745773e-02,  3.30418087e-02,  1.56945685e-03,\n",
              "         3.27180905e-01,  1.72212135e-01],\n",
              "       [ 0.00000000e+00,  0.00000000e+00,  0.00000000e+00,\n",
              "         0.00000000e+00,  0.00000000e+00,  0.00000000e+00,\n",
              "         0.00000000e+00,  1.00000000e+00,  3.83743056e-01,\n",
              "         1.26800958e-02,  3.84462597e-02,  2.49367396e-03,\n",
              "         2.03466605e-01,  1.27985915e-01],\n",
              "       [ 0.00000000e+00,  0.00000000e+00,  0.00000000e+00,\n",
              "         0.00000000e+00,  0.00000000e+00,  0.00000000e+00,\n",
              "         0.00000000e+00,  0.00000000e+00,  1.00000000e+00,\n",
              "        -4.15702174e-03,  1.42971522e-02, -1.01454104e-02,\n",
              "         8.84445796e-02,  8.81094078e-02],\n",
              "       [ 0.00000000e+00,  0.00000000e+00,  0.00000000e+00,\n",
              "         0.00000000e+00,  0.00000000e+00,  0.00000000e+00,\n",
              "         0.00000000e+00,  0.00000000e+00,  0.00000000e+00,\n",
              "         1.00000000e+00,  3.41200425e-01,  2.69395335e-02,\n",
              "        -2.03448215e-02, -3.27424154e-03],\n",
              "       [ 0.00000000e+00,  0.00000000e+00,  0.00000000e+00,\n",
              "         0.00000000e+00,  0.00000000e+00,  0.00000000e+00,\n",
              "         0.00000000e+00,  0.00000000e+00,  0.00000000e+00,\n",
              "         0.00000000e+00,  1.00000000e+00,  2.58472805e-02,\n",
              "        -1.10879844e-02,  2.50558772e-02],\n",
              "       [ 0.00000000e+00,  0.00000000e+00,  0.00000000e+00,\n",
              "         0.00000000e+00,  0.00000000e+00,  0.00000000e+00,\n",
              "         0.00000000e+00,  0.00000000e+00,  0.00000000e+00,\n",
              "         0.00000000e+00,  0.00000000e+00,  1.00000000e+00,\n",
              "        -3.73393835e-02, -3.38671169e-03],\n",
              "       [ 0.00000000e+00,  0.00000000e+00,  0.00000000e+00,\n",
              "         0.00000000e+00,  0.00000000e+00,  0.00000000e+00,\n",
              "         0.00000000e+00,  0.00000000e+00,  0.00000000e+00,\n",
              "         0.00000000e+00,  0.00000000e+00,  0.00000000e+00,\n",
              "         1.00000000e+00,  1.43167747e-01],\n",
              "       [ 0.00000000e+00,  0.00000000e+00,  0.00000000e+00,\n",
              "         0.00000000e+00,  0.00000000e+00,  0.00000000e+00,\n",
              "         0.00000000e+00,  0.00000000e+00,  0.00000000e+00,\n",
              "         0.00000000e+00,  0.00000000e+00,  0.00000000e+00,\n",
              "         0.00000000e+00,  1.00000000e+00]])"
            ]
          },
          "metadata": {},
          "execution_count": 28
        }
      ]
    },
    {
      "cell_type": "code",
      "source": [
        "# настроим фигуры matplotlib\n",
        "fig = plt.subplots(figsize=(9, 8))\n",
        "\n",
        "# построим тепловую карту с маской\n",
        "sns.heatmap(data = corr_heat, annot = True, fmt='.1f', cmap = 'RdGy', mask = mask, annot_kws={'fontsize':7},\n",
        "                                    cbar_kws = {'shrink': .7}, square = False, center = 0, vmax = 0.30)"
      ],
      "metadata": {
        "colab": {
          "base_uri": "https://localhost:8080/",
          "height": 756
        },
        "id": "Wm09FfRExgXO",
        "outputId": "f92d4cbf-f178-4a8d-87e2-d9c89e18bf84"
      },
      "id": "Wm09FfRExgXO",
      "execution_count": 29,
      "outputs": [
        {
          "output_type": "execute_result",
          "data": {
            "text/plain": [
              "<Axes: >"
            ]
          },
          "metadata": {},
          "execution_count": 29
        },
        {
          "output_type": "display_data",
          "data": {
            "text/plain": [
              "<Figure size 900x800 with 2 Axes>"
            ],
            "image/png": "[encoded data removed]"
          },
          "metadata": {}
        }
      ]
    },
    {
      "cell_type": "markdown",
      "source": [
        "![purple-divider](https://user-images.githubusercontent.com/7065401/52071927-c1cd7100-2562-11e9-908a-dde91ba14e59.png)"
      ],
      "metadata": {
        "id": "KcI9HJ-axk-P"
      },
      "id": "KcI9HJ-axk-P"
    }
  ],
  "metadata": {
    "ExecuteTimeLog": [
      {
        "duration": 1671,
        "start_time": "2022-05-08T13:43:51.690Z"
      },
      {
        "duration": 919,
        "start_time": "2022-05-08T13:43:53.364Z"
      },
      {
        "duration": 4,
        "start_time": "2022-05-08T13:43:54.286Z"
      },
      {
        "duration": 62,
        "start_time": "2022-05-08T13:43:54.293Z"
      },
      {
        "duration": 75,
        "start_time": "2022-05-08T13:43:54.357Z"
      },
      {
        "duration": 72,
        "start_time": "2022-05-08T13:43:54.434Z"
      },
      {
        "duration": 60,
        "start_time": "2022-05-08T13:43:54.508Z"
      },
      {
        "duration": 65,
        "start_time": "2022-05-08T13:43:54.569Z"
      },
      {
        "duration": 15,
        "start_time": "2022-05-08T13:43:54.636Z"
      },
      {
        "duration": 7,
        "start_time": "2022-05-08T13:43:54.655Z"
      },
      {
        "duration": 41,
        "start_time": "2022-05-08T13:43:54.664Z"
      },
      {
        "duration": 9,
        "start_time": "2022-05-08T13:43:54.706Z"
      },
      {
        "duration": 15,
        "start_time": "2022-05-08T13:43:54.717Z"
      },
      {
        "duration": 31,
        "start_time": "2022-05-08T13:43:54.734Z"
      },
      {
        "duration": 18,
        "start_time": "2022-05-08T13:43:54.766Z"
      },
      {
        "duration": 29,
        "start_time": "2022-05-08T13:43:54.785Z"
      },
      {
        "duration": 12,
        "start_time": "2022-05-08T13:43:54.816Z"
      },
      {
        "duration": 6,
        "start_time": "2022-05-08T13:43:54.830Z"
      },
      {
        "duration": 11,
        "start_time": "2022-05-08T13:43:54.837Z"
      },
      {
        "duration": 10,
        "start_time": "2022-05-08T13:43:54.850Z"
      },
      {
        "duration": 8,
        "start_time": "2022-05-08T13:43:54.862Z"
      },
      {
        "duration": 17,
        "start_time": "2022-05-08T13:43:54.897Z"
      },
      {
        "duration": 7,
        "start_time": "2022-05-08T13:43:54.916Z"
      },
      {
        "duration": 6,
        "start_time": "2022-05-08T13:43:54.925Z"
      },
      {
        "duration": 19,
        "start_time": "2022-05-08T13:43:54.933Z"
      },
      {
        "duration": 339,
        "start_time": "2022-05-08T13:43:54.953Z"
      },
      {
        "duration": 8,
        "start_time": "2022-05-08T13:43:55.302Z"
      },
      {
        "duration": 32,
        "start_time": "2022-05-08T13:43:55.315Z"
      },
      {
        "duration": 67,
        "start_time": "2022-05-08T13:43:55.349Z"
      },
      {
        "duration": 7,
        "start_time": "2022-05-08T13:43:55.419Z"
      },
      {
        "duration": 19,
        "start_time": "2022-05-08T13:43:55.428Z"
      },
      {
        "duration": 19,
        "start_time": "2022-05-08T13:43:55.449Z"
      },
      {
        "duration": 15,
        "start_time": "2022-05-08T13:43:55.497Z"
      },
      {
        "duration": 24,
        "start_time": "2022-05-08T13:43:55.514Z"
      },
      {
        "duration": 22,
        "start_time": "2022-05-08T13:43:55.539Z"
      },
      {
        "duration": 35,
        "start_time": "2022-05-08T13:43:55.563Z"
      },
      {
        "duration": 16,
        "start_time": "2022-05-08T13:43:55.601Z"
      },
      {
        "duration": 55,
        "start_time": "2022-05-08T13:43:55.618Z"
      },
      {
        "duration": 167,
        "start_time": "2022-05-08T13:43:55.675Z"
      },
      {
        "duration": 6,
        "start_time": "2022-05-08T13:43:55.843Z"
      },
      {
        "duration": 31,
        "start_time": "2022-05-08T13:43:55.850Z"
      },
      {
        "duration": 54,
        "start_time": "2022-05-08T13:43:55.883Z"
      },
      {
        "duration": 6,
        "start_time": "2022-05-08T13:43:55.938Z"
      },
      {
        "duration": 8,
        "start_time": "2022-05-08T13:43:55.945Z"
      },
      {
        "duration": 13,
        "start_time": "2022-05-08T13:43:55.955Z"
      },
      {
        "duration": 62,
        "start_time": "2022-05-08T13:43:55.970Z"
      },
      {
        "duration": 86,
        "start_time": "2022-05-08T13:43:56.034Z"
      },
      {
        "duration": 8,
        "start_time": "2022-05-08T13:43:56.121Z"
      },
      {
        "duration": 13,
        "start_time": "2022-05-08T13:43:56.131Z"
      },
      {
        "duration": 150,
        "start_time": "2022-05-08T13:43:56.146Z"
      },
      {
        "duration": 11,
        "start_time": "2022-05-08T13:43:56.298Z"
      },
      {
        "duration": 13,
        "start_time": "2022-05-08T13:43:56.312Z"
      },
      {
        "duration": 16,
        "start_time": "2022-05-08T13:43:56.326Z"
      },
      {
        "duration": 9,
        "start_time": "2022-05-08T13:43:56.344Z"
      },
      {
        "duration": 59,
        "start_time": "2022-05-08T13:43:56.355Z"
      },
      {
        "duration": 36,
        "start_time": "2022-05-08T13:43:56.416Z"
      },
      {
        "duration": 6,
        "start_time": "2022-05-08T13:43:56.454Z"
      },
      {
        "duration": 71,
        "start_time": "2022-05-08T13:43:56.462Z"
      },
      {
        "duration": 8,
        "start_time": "2022-05-08T13:43:56.534Z"
      },
      {
        "duration": 8,
        "start_time": "2022-05-08T13:43:56.544Z"
      },
      {
        "duration": 100,
        "start_time": "2022-05-08T13:43:56.554Z"
      },
      {
        "duration": 53,
        "start_time": "2022-05-08T13:43:56.656Z"
      },
      {
        "duration": 25,
        "start_time": "2022-05-08T13:43:56.712Z"
      },
      {
        "duration": 19,
        "start_time": "2022-05-08T13:43:56.738Z"
      },
      {
        "duration": 64,
        "start_time": "2022-05-08T13:43:56.758Z"
      },
      {
        "duration": 5,
        "start_time": "2022-05-08T13:43:56.825Z"
      },
      {
        "duration": 8,
        "start_time": "2022-05-08T13:43:56.833Z"
      },
      {
        "duration": 10,
        "start_time": "2022-05-08T13:43:56.843Z"
      },
      {
        "duration": 43,
        "start_time": "2022-05-08T13:43:56.855Z"
      },
      {
        "duration": 9,
        "start_time": "2022-05-08T13:43:56.900Z"
      },
      {
        "duration": 41,
        "start_time": "2022-05-08T13:43:56.911Z"
      },
      {
        "duration": 45,
        "start_time": "2022-05-08T13:43:56.954Z"
      },
      {
        "duration": 12,
        "start_time": "2022-05-08T13:43:57.001Z"
      },
      {
        "duration": 8,
        "start_time": "2022-05-08T13:43:57.015Z"
      },
      {
        "duration": 283,
        "start_time": "2022-05-08T13:43:57.025Z"
      },
      {
        "duration": 38,
        "start_time": "2022-05-08T13:43:57.310Z"
      },
      {
        "duration": 28,
        "start_time": "2022-05-08T13:43:57.350Z"
      },
      {
        "duration": 11,
        "start_time": "2022-05-08T13:43:57.398Z"
      },
      {
        "duration": 1301,
        "start_time": "2022-05-08T13:43:57.411Z"
      },
      {
        "duration": 8,
        "start_time": "2022-05-08T13:43:58.714Z"
      },
      {
        "duration": 25,
        "start_time": "2022-05-08T13:43:58.724Z"
      },
      {
        "duration": 23,
        "start_time": "2022-05-08T13:43:58.808Z"
      },
      {
        "duration": 81,
        "start_time": "2022-05-08T13:43:58.833Z"
      },
      {
        "duration": 4,
        "start_time": "2022-05-08T13:43:58.915Z"
      },
      {
        "duration": 979,
        "start_time": "2022-05-08T13:43:58.921Z"
      },
      {
        "duration": 472,
        "start_time": "2022-05-08T13:43:59.906Z"
      },
      {
        "duration": 15,
        "start_time": "2022-05-08T13:44:00.380Z"
      },
      {
        "duration": 22,
        "start_time": "2022-05-08T13:44:00.400Z"
      },
      {
        "duration": 2222,
        "start_time": "2022-05-08T13:44:00.424Z"
      },
      {
        "duration": 71,
        "start_time": "2022-05-08T13:44:02.648Z"
      },
      {
        "duration": 12,
        "start_time": "2022-05-08T13:44:02.721Z"
      },
      {
        "duration": 14,
        "start_time": "2022-05-08T13:44:02.735Z"
      },
      {
        "duration": 79,
        "start_time": "2022-05-08T13:44:02.751Z"
      },
      {
        "duration": 1307,
        "start_time": "2022-05-08T13:44:02.832Z"
      },
      {
        "duration": 11,
        "start_time": "2022-05-08T13:44:04.140Z"
      },
      {
        "duration": 11,
        "start_time": "2022-05-08T13:44:04.153Z"
      },
      {
        "duration": 36,
        "start_time": "2022-05-08T13:44:04.166Z"
      },
      {
        "duration": 10,
        "start_time": "2022-05-08T13:44:04.218Z"
      },
      {
        "duration": 16,
        "start_time": "2022-05-08T13:44:04.230Z"
      },
      {
        "duration": 36,
        "start_time": "2022-05-08T13:53:51.009Z"
      },
      {
        "duration": 122,
        "start_time": "2022-05-08T13:54:00.460Z"
      },
      {
        "duration": 127,
        "start_time": "2022-05-08T13:54:48.500Z"
      },
      {
        "duration": 264,
        "start_time": "2022-05-08T13:55:28.866Z"
      },
      {
        "duration": 5,
        "start_time": "2022-05-08T13:55:35.375Z"
      },
      {
        "duration": 5,
        "start_time": "2022-05-08T13:55:55.425Z"
      },
      {
        "duration": 16,
        "start_time": "2022-05-08T13:56:06.259Z"
      },
      {
        "duration": 24,
        "start_time": "2022-05-08T13:57:03.362Z"
      },
      {
        "duration": 7,
        "start_time": "2022-05-08T13:57:55.724Z"
      },
      {
        "duration": 7,
        "start_time": "2022-05-08T14:00:44.603Z"
      },
      {
        "duration": 253,
        "start_time": "2022-05-08T14:00:47.394Z"
      },
      {
        "duration": 4,
        "start_time": "2022-05-08T14:00:50.898Z"
      },
      {
        "duration": 7,
        "start_time": "2022-05-08T14:00:58.530Z"
      },
      {
        "duration": 7,
        "start_time": "2022-05-08T14:02:04.900Z"
      },
      {
        "duration": 1185,
        "start_time": "2022-05-08T14:02:47.371Z"
      },
      {
        "duration": 382,
        "start_time": "2022-05-08T14:02:48.558Z"
      },
      {
        "duration": 4,
        "start_time": "2022-05-08T14:02:48.941Z"
      },
      {
        "duration": 45,
        "start_time": "2022-05-08T14:02:48.947Z"
      },
      {
        "duration": 100,
        "start_time": "2022-05-08T14:02:48.995Z"
      },
      {
        "duration": 58,
        "start_time": "2022-05-08T14:02:49.097Z"
      },
      {
        "duration": 116,
        "start_time": "2022-05-08T14:02:49.157Z"
      },
      {
        "duration": 54,
        "start_time": "2022-05-08T14:02:49.275Z"
      },
      {
        "duration": 13,
        "start_time": "2022-05-08T14:02:49.330Z"
      },
      {
        "duration": 7,
        "start_time": "2022-05-08T14:02:49.347Z"
      },
      {
        "duration": 39,
        "start_time": "2022-05-08T14:02:49.355Z"
      },
      {
        "duration": 11,
        "start_time": "2022-05-08T14:02:49.396Z"
      },
      {
        "duration": 15,
        "start_time": "2022-05-08T14:02:49.409Z"
      },
      {
        "duration": 9,
        "start_time": "2022-05-08T14:02:49.426Z"
      },
      {
        "duration": 16,
        "start_time": "2022-05-08T14:02:49.437Z"
      },
      {
        "duration": 17,
        "start_time": "2022-05-08T14:02:49.455Z"
      },
      {
        "duration": 17,
        "start_time": "2022-05-08T14:02:49.493Z"
      },
      {
        "duration": 7,
        "start_time": "2022-05-08T14:02:49.512Z"
      },
      {
        "duration": 29,
        "start_time": "2022-05-08T14:02:49.521Z"
      },
      {
        "duration": 11,
        "start_time": "2022-05-08T14:02:49.552Z"
      },
      {
        "duration": 11,
        "start_time": "2022-05-08T14:02:49.565Z"
      },
      {
        "duration": 20,
        "start_time": "2022-05-08T14:02:49.578Z"
      },
      {
        "duration": 11,
        "start_time": "2022-05-08T14:02:49.600Z"
      },
      {
        "duration": 13,
        "start_time": "2022-05-08T14:02:49.613Z"
      },
      {
        "duration": 15,
        "start_time": "2022-05-08T14:02:49.628Z"
      },
      {
        "duration": 283,
        "start_time": "2022-05-08T14:02:49.644Z"
      },
      {
        "duration": 6,
        "start_time": "2022-05-08T14:02:49.929Z"
      },
      {
        "duration": 54,
        "start_time": "2022-05-08T14:02:49.940Z"
      },
      {
        "duration": 47,
        "start_time": "2022-05-08T14:02:49.995Z"
      },
      {
        "duration": 6,
        "start_time": "2022-05-08T14:02:50.044Z"
      },
      {
        "duration": 43,
        "start_time": "2022-05-08T14:02:50.051Z"
      },
      {
        "duration": 19,
        "start_time": "2022-05-08T14:02:50.096Z"
      },
      {
        "duration": 11,
        "start_time": "2022-05-08T14:02:50.118Z"
      },
      {
        "duration": 23,
        "start_time": "2022-05-08T14:02:50.131Z"
      },
      {
        "duration": 23,
        "start_time": "2022-05-08T14:02:50.193Z"
      },
      {
        "duration": 8,
        "start_time": "2022-05-08T14:02:50.218Z"
      },
      {
        "duration": 13,
        "start_time": "2022-05-08T14:02:50.228Z"
      },
      {
        "duration": 71,
        "start_time": "2022-05-08T14:02:50.243Z"
      },
      {
        "duration": 126,
        "start_time": "2022-05-08T14:02:50.316Z"
      },
      {
        "duration": 6,
        "start_time": "2022-05-08T14:02:50.444Z"
      },
      {
        "duration": 23,
        "start_time": "2022-05-08T14:02:50.452Z"
      },
      {
        "duration": 30,
        "start_time": "2022-05-08T14:02:50.493Z"
      },
      {
        "duration": 7,
        "start_time": "2022-05-08T14:02:50.525Z"
      },
      {
        "duration": 5,
        "start_time": "2022-05-08T14:02:50.533Z"
      },
      {
        "duration": 28,
        "start_time": "2022-05-08T14:02:50.540Z"
      },
      {
        "duration": 38,
        "start_time": "2022-05-08T14:02:50.594Z"
      },
      {
        "duration": 129,
        "start_time": "2022-05-08T14:02:50.634Z"
      },
      {
        "duration": 11,
        "start_time": "2022-05-08T14:02:50.764Z"
      },
      {
        "duration": 30,
        "start_time": "2022-05-08T14:02:50.777Z"
      },
      {
        "duration": 149,
        "start_time": "2022-05-08T14:02:50.809Z"
      },
      {
        "duration": 6,
        "start_time": "2022-05-08T14:02:50.960Z"
      },
      {
        "duration": 26,
        "start_time": "2022-05-08T14:02:50.967Z"
      },
      {
        "duration": 17,
        "start_time": "2022-05-08T14:02:50.995Z"
      },
      {
        "duration": 9,
        "start_time": "2022-05-08T14:02:51.014Z"
      },
      {
        "duration": 24,
        "start_time": "2022-05-08T14:02:51.024Z"
      },
      {
        "duration": 49,
        "start_time": "2022-05-08T14:02:51.050Z"
      },
      {
        "duration": 5,
        "start_time": "2022-05-08T14:02:51.101Z"
      },
      {
        "duration": 39,
        "start_time": "2022-05-08T14:02:51.108Z"
      },
      {
        "duration": 7,
        "start_time": "2022-05-08T14:02:51.149Z"
      },
      {
        "duration": 9,
        "start_time": "2022-05-08T14:02:51.157Z"
      },
      {
        "duration": 71,
        "start_time": "2022-05-08T14:02:51.193Z"
      },
      {
        "duration": 50,
        "start_time": "2022-05-08T14:02:51.266Z"
      },
      {
        "duration": 25,
        "start_time": "2022-05-08T14:02:51.318Z"
      },
      {
        "duration": 19,
        "start_time": "2022-05-08T14:02:51.345Z"
      },
      {
        "duration": 59,
        "start_time": "2022-05-08T14:02:51.366Z"
      },
      {
        "duration": 5,
        "start_time": "2022-05-08T14:02:51.426Z"
      },
      {
        "duration": 14,
        "start_time": "2022-05-08T14:02:51.433Z"
      },
      {
        "duration": 23,
        "start_time": "2022-05-08T14:02:51.449Z"
      },
      {
        "duration": 37,
        "start_time": "2022-05-08T14:02:51.474Z"
      },
      {
        "duration": 19,
        "start_time": "2022-05-08T14:02:51.513Z"
      },
      {
        "duration": 79,
        "start_time": "2022-05-08T14:02:51.534Z"
      },
      {
        "duration": 16,
        "start_time": "2022-05-08T14:02:51.615Z"
      },
      {
        "duration": 9,
        "start_time": "2022-05-08T14:02:51.632Z"
      },
      {
        "duration": 20,
        "start_time": "2022-05-08T14:02:51.642Z"
      },
      {
        "duration": 259,
        "start_time": "2022-05-08T14:02:51.664Z"
      },
      {
        "duration": 4,
        "start_time": "2022-05-08T14:02:51.925Z"
      },
      {
        "duration": 11,
        "start_time": "2022-05-08T14:02:51.931Z"
      },
      {
        "duration": 53,
        "start_time": "2022-05-08T14:02:51.944Z"
      },
      {
        "duration": 29,
        "start_time": "2022-05-08T14:02:51.999Z"
      },
      {
        "duration": 5,
        "start_time": "2022-05-08T14:02:52.029Z"
      },
      {
        "duration": 780,
        "start_time": "2022-05-08T14:02:52.035Z"
      },
      {
        "duration": 5,
        "start_time": "2022-05-08T14:02:52.821Z"
      },
      {
        "duration": 33,
        "start_time": "2022-05-08T14:02:52.828Z"
      },
      {
        "duration": 34,
        "start_time": "2022-05-08T14:02:52.862Z"
      },
      {
        "duration": 38,
        "start_time": "2022-05-08T14:02:52.899Z"
      },
      {
        "duration": 5,
        "start_time": "2022-05-08T14:02:52.939Z"
      },
      {
        "duration": 401,
        "start_time": "2022-05-08T14:02:52.946Z"
      },
      {
        "duration": 656,
        "start_time": "2022-05-08T14:02:53.349Z"
      },
      {
        "duration": 9,
        "start_time": "2022-05-08T14:02:54.006Z"
      },
      {
        "duration": 27,
        "start_time": "2022-05-08T14:02:54.017Z"
      },
      {
        "duration": 3912,
        "start_time": "2022-05-08T14:02:54.093Z"
      },
      {
        "duration": 108,
        "start_time": "2022-05-08T14:02:58.007Z"
      },
      {
        "duration": 10,
        "start_time": "2022-05-08T14:02:58.117Z"
      },
      {
        "duration": 65,
        "start_time": "2022-05-08T14:02:58.128Z"
      },
      {
        "duration": 41,
        "start_time": "2022-05-08T14:02:58.194Z"
      },
      {
        "duration": 2035,
        "start_time": "2022-05-08T14:02:58.293Z"
      },
      {
        "duration": 11,
        "start_time": "2022-05-08T14:03:00.330Z"
      },
      {
        "duration": 10,
        "start_time": "2022-05-08T14:03:00.393Z"
      },
      {
        "duration": 16,
        "start_time": "2022-05-08T14:03:00.405Z"
      },
      {
        "duration": 32,
        "start_time": "2022-05-08T14:03:00.422Z"
      },
      {
        "duration": 21,
        "start_time": "2022-05-08T14:03:00.492Z"
      },
      {
        "duration": 1251,
        "start_time": "2022-05-08T14:03:55.171Z"
      },
      {
        "duration": 387,
        "start_time": "2022-05-08T14:03:56.424Z"
      },
      {
        "duration": 3,
        "start_time": "2022-05-08T14:03:56.813Z"
      },
      {
        "duration": 45,
        "start_time": "2022-05-08T14:03:56.818Z"
      },
      {
        "duration": 71,
        "start_time": "2022-05-08T14:03:56.865Z"
      },
      {
        "duration": 62,
        "start_time": "2022-05-08T14:03:56.937Z"
      },
      {
        "duration": 59,
        "start_time": "2022-05-08T14:03:57.002Z"
      },
      {
        "duration": 79,
        "start_time": "2022-05-08T14:03:57.063Z"
      },
      {
        "duration": 17,
        "start_time": "2022-05-08T14:03:57.144Z"
      },
      {
        "duration": 30,
        "start_time": "2022-05-08T14:03:57.163Z"
      },
      {
        "duration": 7,
        "start_time": "2022-05-08T14:03:57.195Z"
      },
      {
        "duration": 10,
        "start_time": "2022-05-08T14:03:57.203Z"
      },
      {
        "duration": 10,
        "start_time": "2022-05-08T14:03:57.214Z"
      },
      {
        "duration": 5,
        "start_time": "2022-05-08T14:03:57.228Z"
      },
      {
        "duration": 10,
        "start_time": "2022-05-08T14:03:57.235Z"
      },
      {
        "duration": 12,
        "start_time": "2022-05-08T14:03:57.246Z"
      },
      {
        "duration": 46,
        "start_time": "2022-05-08T14:03:57.259Z"
      },
      {
        "duration": 6,
        "start_time": "2022-05-08T14:03:57.307Z"
      },
      {
        "duration": 8,
        "start_time": "2022-05-08T14:03:57.315Z"
      },
      {
        "duration": 11,
        "start_time": "2022-05-08T14:03:57.325Z"
      },
      {
        "duration": 11,
        "start_time": "2022-05-08T14:03:57.338Z"
      },
      {
        "duration": 15,
        "start_time": "2022-05-08T14:03:57.351Z"
      },
      {
        "duration": 8,
        "start_time": "2022-05-08T14:03:57.392Z"
      },
      {
        "duration": 11,
        "start_time": "2022-05-08T14:03:57.402Z"
      },
      {
        "duration": 15,
        "start_time": "2022-05-08T14:03:57.415Z"
      },
      {
        "duration": 267,
        "start_time": "2022-05-08T14:03:57.432Z"
      },
      {
        "duration": 5,
        "start_time": "2022-05-08T14:03:57.701Z"
      },
      {
        "duration": 36,
        "start_time": "2022-05-08T14:03:57.708Z"
      },
      {
        "duration": 61,
        "start_time": "2022-05-08T14:03:57.745Z"
      },
      {
        "duration": 6,
        "start_time": "2022-05-08T14:03:57.807Z"
      },
      {
        "duration": 19,
        "start_time": "2022-05-08T14:03:57.815Z"
      },
      {
        "duration": 18,
        "start_time": "2022-05-08T14:03:57.835Z"
      },
      {
        "duration": 39,
        "start_time": "2022-05-08T14:03:57.855Z"
      },
      {
        "duration": 25,
        "start_time": "2022-05-08T14:03:57.896Z"
      },
      {
        "duration": 23,
        "start_time": "2022-05-08T14:03:57.923Z"
      },
      {
        "duration": 8,
        "start_time": "2022-05-08T14:03:57.947Z"
      },
      {
        "duration": 42,
        "start_time": "2022-05-08T14:03:57.956Z"
      },
      {
        "duration": 55,
        "start_time": "2022-05-08T14:03:58.000Z"
      },
      {
        "duration": 142,
        "start_time": "2022-05-08T14:03:58.056Z"
      },
      {
        "duration": 5,
        "start_time": "2022-05-08T14:03:58.200Z"
      },
      {
        "duration": 18,
        "start_time": "2022-05-08T14:03:58.211Z"
      },
      {
        "duration": 29,
        "start_time": "2022-05-08T14:03:58.231Z"
      },
      {
        "duration": 6,
        "start_time": "2022-05-08T14:03:58.262Z"
      },
      {
        "duration": 5,
        "start_time": "2022-05-08T14:03:58.293Z"
      },
      {
        "duration": 15,
        "start_time": "2022-05-08T14:03:58.300Z"
      },
      {
        "duration": 31,
        "start_time": "2022-05-08T14:03:58.317Z"
      },
      {
        "duration": 96,
        "start_time": "2022-05-08T14:03:58.350Z"
      },
      {
        "duration": 8,
        "start_time": "2022-05-08T14:03:58.447Z"
      },
      {
        "duration": 13,
        "start_time": "2022-05-08T14:03:58.457Z"
      },
      {
        "duration": 151,
        "start_time": "2022-05-08T14:03:58.471Z"
      },
      {
        "duration": 5,
        "start_time": "2022-05-08T14:03:58.623Z"
      },
      {
        "duration": 17,
        "start_time": "2022-05-08T14:03:58.629Z"
      },
      {
        "duration": 16,
        "start_time": "2022-05-08T14:03:58.648Z"
      },
      {
        "duration": 9,
        "start_time": "2022-05-08T14:03:58.693Z"
      },
      {
        "duration": 19,
        "start_time": "2022-05-08T14:03:58.703Z"
      },
      {
        "duration": 36,
        "start_time": "2022-05-08T14:03:58.724Z"
      },
      {
        "duration": 36,
        "start_time": "2022-05-08T14:03:58.762Z"
      },
      {
        "duration": 52,
        "start_time": "2022-05-08T14:03:58.800Z"
      },
      {
        "duration": 8,
        "start_time": "2022-05-08T14:03:58.854Z"
      },
      {
        "duration": 31,
        "start_time": "2022-05-08T14:03:58.865Z"
      },
      {
        "duration": 111,
        "start_time": "2022-05-08T14:03:58.899Z"
      },
      {
        "duration": 45,
        "start_time": "2022-05-08T14:03:59.012Z"
      },
      {
        "duration": 66,
        "start_time": "2022-05-08T14:03:59.059Z"
      },
      {
        "duration": 79,
        "start_time": "2022-05-08T14:03:59.127Z"
      },
      {
        "duration": 94,
        "start_time": "2022-05-08T14:03:59.208Z"
      },
      {
        "duration": 4,
        "start_time": "2022-05-08T14:03:59.304Z"
      },
      {
        "duration": 11,
        "start_time": "2022-05-08T14:03:59.310Z"
      },
      {
        "duration": 8,
        "start_time": "2022-05-08T14:03:59.323Z"
      },
      {
        "duration": 62,
        "start_time": "2022-05-08T14:03:59.333Z"
      },
      {
        "duration": 7,
        "start_time": "2022-05-08T14:03:59.397Z"
      },
      {
        "duration": 96,
        "start_time": "2022-05-08T14:03:59.406Z"
      },
      {
        "duration": 16,
        "start_time": "2022-05-08T14:03:59.503Z"
      },
      {
        "duration": 7,
        "start_time": "2022-05-08T14:03:59.521Z"
      },
      {
        "duration": 63,
        "start_time": "2022-05-08T14:03:59.530Z"
      },
      {
        "duration": 440,
        "start_time": "2022-05-08T14:03:59.595Z"
      },
      {
        "duration": 5,
        "start_time": "2022-05-08T14:04:00.093Z"
      },
      {
        "duration": 15,
        "start_time": "2022-05-08T14:04:00.100Z"
      },
      {
        "duration": 103,
        "start_time": "2022-05-08T14:04:00.116Z"
      },
      {
        "duration": 97,
        "start_time": "2022-05-08T14:04:00.221Z"
      },
      {
        "duration": 6,
        "start_time": "2022-05-08T14:04:00.320Z"
      },
      {
        "duration": 2479,
        "start_time": "2022-05-08T14:04:00.329Z"
      },
      {
        "duration": 7,
        "start_time": "2022-05-08T14:04:02.810Z"
      },
      {
        "duration": 85,
        "start_time": "2022-05-08T14:04:02.819Z"
      },
      {
        "duration": 35,
        "start_time": "2022-05-08T14:04:02.906Z"
      },
      {
        "duration": 67,
        "start_time": "2022-05-08T14:04:02.943Z"
      },
      {
        "duration": 4,
        "start_time": "2022-05-08T14:04:03.012Z"
      },
      {
        "duration": 699,
        "start_time": "2022-05-08T14:04:03.017Z"
      },
      {
        "duration": 777,
        "start_time": "2022-05-08T14:04:03.718Z"
      },
      {
        "duration": 9,
        "start_time": "2022-05-08T14:04:04.496Z"
      },
      {
        "duration": 11,
        "start_time": "2022-05-08T14:04:04.507Z"
      },
      {
        "duration": 2854,
        "start_time": "2022-05-08T14:04:04.520Z"
      },
      {
        "duration": 66,
        "start_time": "2022-05-08T14:04:07.375Z"
      },
      {
        "duration": 9,
        "start_time": "2022-05-08T14:04:07.443Z"
      },
      {
        "duration": 11,
        "start_time": "2022-05-08T14:04:07.454Z"
      },
      {
        "duration": 41,
        "start_time": "2022-05-08T14:04:07.492Z"
      },
      {
        "duration": 1294,
        "start_time": "2022-05-08T14:04:07.535Z"
      },
      {
        "duration": 10,
        "start_time": "2022-05-08T14:04:08.831Z"
      },
      {
        "duration": 12,
        "start_time": "2022-05-08T14:04:08.843Z"
      },
      {
        "duration": 12,
        "start_time": "2022-05-08T14:04:08.856Z"
      },
      {
        "duration": 27,
        "start_time": "2022-05-08T14:04:08.870Z"
      },
      {
        "duration": 14,
        "start_time": "2022-05-08T14:04:08.899Z"
      },
      {
        "duration": 9,
        "start_time": "2022-05-08T14:08:17.418Z"
      },
      {
        "duration": 9,
        "start_time": "2022-05-08T14:09:11.645Z"
      },
      {
        "duration": 56,
        "start_time": "2022-05-08T14:10:47.346Z"
      },
      {
        "duration": 22,
        "start_time": "2022-05-08T14:10:48.712Z"
      },
      {
        "duration": 1162,
        "start_time": "2022-05-08T14:22:16.490Z"
      },
      {
        "duration": 424,
        "start_time": "2022-05-08T14:22:17.654Z"
      },
      {
        "duration": 3,
        "start_time": "2022-05-08T14:22:18.080Z"
      },
      {
        "duration": 47,
        "start_time": "2022-05-08T14:22:18.085Z"
      },
      {
        "duration": 82,
        "start_time": "2022-05-08T14:22:18.133Z"
      },
      {
        "duration": 41,
        "start_time": "2022-05-08T14:22:18.217Z"
      },
      {
        "duration": 85,
        "start_time": "2022-05-08T14:22:18.260Z"
      },
      {
        "duration": 63,
        "start_time": "2022-05-08T14:22:18.347Z"
      },
      {
        "duration": 14,
        "start_time": "2022-05-08T14:22:18.412Z"
      },
      {
        "duration": 8,
        "start_time": "2022-05-08T14:22:18.429Z"
      },
      {
        "duration": 7,
        "start_time": "2022-05-08T14:22:18.438Z"
      },
      {
        "duration": 7,
        "start_time": "2022-05-08T14:22:18.446Z"
      },
      {
        "duration": 39,
        "start_time": "2022-05-08T14:22:18.455Z"
      },
      {
        "duration": 5,
        "start_time": "2022-05-08T14:22:18.496Z"
      },
      {
        "duration": 11,
        "start_time": "2022-05-08T14:22:18.503Z"
      },
      {
        "duration": 13,
        "start_time": "2022-05-08T14:22:18.516Z"
      },
      {
        "duration": 15,
        "start_time": "2022-05-08T14:22:18.531Z"
      },
      {
        "duration": 46,
        "start_time": "2022-05-08T14:22:18.548Z"
      },
      {
        "duration": 7,
        "start_time": "2022-05-08T14:22:18.596Z"
      },
      {
        "duration": 10,
        "start_time": "2022-05-08T14:22:18.604Z"
      },
      {
        "duration": 12,
        "start_time": "2022-05-08T14:22:18.616Z"
      },
      {
        "duration": 15,
        "start_time": "2022-05-08T14:22:18.630Z"
      },
      {
        "duration": 8,
        "start_time": "2022-05-08T14:22:18.647Z"
      },
      {
        "duration": 37,
        "start_time": "2022-05-08T14:22:18.657Z"
      },
      {
        "duration": 13,
        "start_time": "2022-05-08T14:22:18.696Z"
      },
      {
        "duration": 308,
        "start_time": "2022-05-08T14:22:18.711Z"
      },
      {
        "duration": 6,
        "start_time": "2022-05-08T14:22:19.021Z"
      },
      {
        "duration": 38,
        "start_time": "2022-05-08T14:22:19.033Z"
      },
      {
        "duration": 58,
        "start_time": "2022-05-08T14:22:19.073Z"
      },
      {
        "duration": 6,
        "start_time": "2022-05-08T14:22:19.133Z"
      },
      {
        "duration": 27,
        "start_time": "2022-05-08T14:22:19.141Z"
      },
      {
        "duration": 27,
        "start_time": "2022-05-08T14:22:19.169Z"
      },
      {
        "duration": 11,
        "start_time": "2022-05-08T14:22:19.198Z"
      },
      {
        "duration": 34,
        "start_time": "2022-05-08T14:22:19.210Z"
      },
      {
        "duration": 28,
        "start_time": "2022-05-08T14:22:19.246Z"
      },
      {
        "duration": 9,
        "start_time": "2022-05-08T14:22:19.293Z"
      },
      {
        "duration": 16,
        "start_time": "2022-05-08T14:22:19.304Z"
      },
      {
        "duration": 56,
        "start_time": "2022-05-08T14:22:19.322Z"
      },
      {
        "duration": 138,
        "start_time": "2022-05-08T14:22:19.393Z"
      },
      {
        "duration": 6,
        "start_time": "2022-05-08T14:22:19.533Z"
      },
      {
        "duration": 33,
        "start_time": "2022-05-08T14:22:19.541Z"
      },
      {
        "duration": 59,
        "start_time": "2022-05-08T14:22:19.576Z"
      },
      {
        "duration": 8,
        "start_time": "2022-05-08T14:22:19.637Z"
      },
      {
        "duration": 7,
        "start_time": "2022-05-08T14:22:19.647Z"
      },
      {
        "duration": 41,
        "start_time": "2022-05-08T14:22:19.656Z"
      },
      {
        "duration": 32,
        "start_time": "2022-05-08T14:22:19.699Z"
      },
      {
        "duration": 93,
        "start_time": "2022-05-08T14:22:19.733Z"
      },
      {
        "duration": 9,
        "start_time": "2022-05-08T14:22:19.827Z"
      },
      {
        "duration": 16,
        "start_time": "2022-05-08T14:22:19.837Z"
      },
      {
        "duration": 159,
        "start_time": "2022-05-08T14:22:19.855Z"
      },
      {
        "duration": 6,
        "start_time": "2022-05-08T14:22:20.016Z"
      },
      {
        "duration": 21,
        "start_time": "2022-05-08T14:22:20.024Z"
      },
      {
        "duration": 17,
        "start_time": "2022-05-08T14:22:20.047Z"
      },
      {
        "duration": 33,
        "start_time": "2022-05-08T14:22:20.066Z"
      },
      {
        "duration": 21,
        "start_time": "2022-05-08T14:22:20.101Z"
      },
      {
        "duration": 25,
        "start_time": "2022-05-08T14:22:20.123Z"
      },
      {
        "duration": 5,
        "start_time": "2022-05-08T14:22:20.150Z"
      },
      {
        "duration": 67,
        "start_time": "2022-05-08T14:22:20.156Z"
      },
      {
        "duration": 6,
        "start_time": "2022-05-08T14:22:20.224Z"
      },
      {
        "duration": 8,
        "start_time": "2022-05-08T14:22:20.232Z"
      },
      {
        "duration": 95,
        "start_time": "2022-05-08T14:22:20.242Z"
      },
      {
        "duration": 63,
        "start_time": "2022-05-08T14:22:20.339Z"
      },
      {
        "duration": 40,
        "start_time": "2022-05-08T14:22:20.405Z"
      },
      {
        "duration": 47,
        "start_time": "2022-05-08T14:22:20.447Z"
      },
      {
        "duration": 52,
        "start_time": "2022-05-08T14:22:20.496Z"
      },
      {
        "duration": 6,
        "start_time": "2022-05-08T14:22:20.550Z"
      },
      {
        "duration": 9,
        "start_time": "2022-05-08T14:22:20.558Z"
      },
      {
        "duration": 11,
        "start_time": "2022-05-08T14:22:20.594Z"
      },
      {
        "duration": 15,
        "start_time": "2022-05-08T14:22:20.608Z"
      },
      {
        "duration": 6,
        "start_time": "2022-05-08T14:22:20.625Z"
      },
      {
        "duration": 69,
        "start_time": "2022-05-08T14:22:20.632Z"
      },
      {
        "duration": 22,
        "start_time": "2022-05-08T14:22:20.703Z"
      },
      {
        "duration": 11,
        "start_time": "2022-05-08T14:22:20.727Z"
      },
      {
        "duration": 19,
        "start_time": "2022-05-08T14:22:20.741Z"
      },
      {
        "duration": 270,
        "start_time": "2022-05-08T14:22:20.762Z"
      },
      {
        "duration": 5,
        "start_time": "2022-05-08T14:22:21.034Z"
      },
      {
        "duration": 18,
        "start_time": "2022-05-08T14:22:21.042Z"
      },
      {
        "duration": 48,
        "start_time": "2022-05-08T14:22:21.062Z"
      },
      {
        "duration": 44,
        "start_time": "2022-05-08T14:22:21.112Z"
      },
      {
        "duration": 6,
        "start_time": "2022-05-08T14:22:21.158Z"
      },
      {
        "duration": 812,
        "start_time": "2022-05-08T14:22:21.166Z"
      },
      {
        "duration": 9,
        "start_time": "2022-05-08T14:22:21.984Z"
      },
      {
        "duration": 16,
        "start_time": "2022-05-08T14:22:21.995Z"
      },
      {
        "duration": 21,
        "start_time": "2022-05-08T14:22:22.013Z"
      },
      {
        "duration": 59,
        "start_time": "2022-05-08T14:22:22.036Z"
      },
      {
        "duration": 4,
        "start_time": "2022-05-08T14:22:22.097Z"
      },
      {
        "duration": 382,
        "start_time": "2022-05-08T14:22:22.102Z"
      },
      {
        "duration": 361,
        "start_time": "2022-05-08T14:22:22.486Z"
      },
      {
        "duration": 10,
        "start_time": "2022-05-08T14:22:22.849Z"
      },
      {
        "duration": 9,
        "start_time": "2022-05-08T14:22:22.861Z"
      },
      {
        "duration": 29,
        "start_time": "2022-05-08T14:22:22.873Z"
      },
      {
        "duration": 2329,
        "start_time": "2022-05-08T14:22:22.904Z"
      },
      {
        "duration": 70,
        "start_time": "2022-05-08T14:22:25.235Z"
      },
      {
        "duration": 10,
        "start_time": "2022-05-08T14:22:25.307Z"
      },
      {
        "duration": 22,
        "start_time": "2022-05-08T14:22:25.319Z"
      },
      {
        "duration": 74,
        "start_time": "2022-05-08T14:22:25.343Z"
      },
      {
        "duration": 1765,
        "start_time": "2022-05-08T14:22:25.419Z"
      },
      {
        "duration": 16,
        "start_time": "2022-05-08T14:22:27.185Z"
      },
      {
        "duration": 14,
        "start_time": "2022-05-08T14:22:27.203Z"
      },
      {
        "duration": 12,
        "start_time": "2022-05-08T14:22:27.220Z"
      },
      {
        "duration": 12,
        "start_time": "2022-05-08T14:22:27.234Z"
      },
      {
        "duration": 53,
        "start_time": "2022-05-08T14:22:27.249Z"
      },
      {
        "duration": 27,
        "start_time": "2022-05-08T14:25:10.969Z"
      },
      {
        "duration": 5,
        "start_time": "2022-05-08T14:25:44.546Z"
      },
      {
        "duration": 1185,
        "start_time": "2022-05-08T14:29:48.545Z"
      },
      {
        "duration": 397,
        "start_time": "2022-05-08T14:29:49.732Z"
      },
      {
        "duration": 4,
        "start_time": "2022-05-08T14:29:50.131Z"
      },
      {
        "duration": 57,
        "start_time": "2022-05-08T14:29:50.138Z"
      },
      {
        "duration": 64,
        "start_time": "2022-05-08T14:29:50.197Z"
      },
      {
        "duration": 61,
        "start_time": "2022-05-08T14:29:50.263Z"
      },
      {
        "duration": 78,
        "start_time": "2022-05-08T14:29:50.326Z"
      },
      {
        "duration": 39,
        "start_time": "2022-05-08T14:29:50.406Z"
      },
      {
        "duration": 13,
        "start_time": "2022-05-08T14:29:50.446Z"
      },
      {
        "duration": 35,
        "start_time": "2022-05-08T14:29:50.461Z"
      },
      {
        "duration": 6,
        "start_time": "2022-05-08T14:29:50.499Z"
      },
      {
        "duration": 21,
        "start_time": "2022-05-08T14:29:50.507Z"
      },
      {
        "duration": 10,
        "start_time": "2022-05-08T14:29:50.530Z"
      },
      {
        "duration": 12,
        "start_time": "2022-05-08T14:29:50.541Z"
      },
      {
        "duration": 21,
        "start_time": "2022-05-08T14:29:50.554Z"
      },
      {
        "duration": 17,
        "start_time": "2022-05-08T14:29:50.577Z"
      },
      {
        "duration": 18,
        "start_time": "2022-05-08T14:29:50.596Z"
      },
      {
        "duration": 14,
        "start_time": "2022-05-08T14:29:50.616Z"
      },
      {
        "duration": 12,
        "start_time": "2022-05-08T14:29:50.631Z"
      },
      {
        "duration": 10,
        "start_time": "2022-05-08T14:29:50.645Z"
      },
      {
        "duration": 18,
        "start_time": "2022-05-08T14:29:50.657Z"
      },
      {
        "duration": 23,
        "start_time": "2022-05-08T14:29:50.677Z"
      },
      {
        "duration": 11,
        "start_time": "2022-05-08T14:29:50.702Z"
      },
      {
        "duration": 27,
        "start_time": "2022-05-08T14:29:50.714Z"
      },
      {
        "duration": 23,
        "start_time": "2022-05-08T14:29:50.742Z"
      },
      {
        "duration": 294,
        "start_time": "2022-05-08T14:29:50.767Z"
      },
      {
        "duration": 5,
        "start_time": "2022-05-08T14:29:51.063Z"
      },
      {
        "duration": 38,
        "start_time": "2022-05-08T14:29:51.073Z"
      },
      {
        "duration": 43,
        "start_time": "2022-05-08T14:29:51.113Z"
      },
      {
        "duration": 5,
        "start_time": "2022-05-08T14:29:51.158Z"
      },
      {
        "duration": 39,
        "start_time": "2022-05-08T14:29:51.165Z"
      },
      {
        "duration": 19,
        "start_time": "2022-05-08T14:29:51.205Z"
      },
      {
        "duration": 11,
        "start_time": "2022-05-08T14:29:51.226Z"
      },
      {
        "duration": 55,
        "start_time": "2022-05-08T14:29:51.239Z"
      },
      {
        "duration": 22,
        "start_time": "2022-05-08T14:29:51.296Z"
      },
      {
        "duration": 7,
        "start_time": "2022-05-08T14:29:51.320Z"
      },
      {
        "duration": 11,
        "start_time": "2022-05-08T14:29:51.329Z"
      },
      {
        "duration": 113,
        "start_time": "2022-05-08T14:29:51.341Z"
      },
      {
        "duration": 162,
        "start_time": "2022-05-08T14:29:51.455Z"
      },
      {
        "duration": 6,
        "start_time": "2022-05-08T14:29:51.618Z"
      },
      {
        "duration": 38,
        "start_time": "2022-05-08T14:29:51.626Z"
      },
      {
        "duration": 62,
        "start_time": "2022-05-08T14:29:51.666Z"
      },
      {
        "duration": 9,
        "start_time": "2022-05-08T14:29:51.730Z"
      },
      {
        "duration": 6,
        "start_time": "2022-05-08T14:29:51.742Z"
      },
      {
        "duration": 48,
        "start_time": "2022-05-08T14:29:51.750Z"
      },
      {
        "duration": 37,
        "start_time": "2022-05-08T14:29:51.800Z"
      },
      {
        "duration": 89,
        "start_time": "2022-05-08T14:29:51.839Z"
      },
      {
        "duration": 8,
        "start_time": "2022-05-08T14:29:51.929Z"
      },
      {
        "duration": 16,
        "start_time": "2022-05-08T14:29:51.939Z"
      },
      {
        "duration": 152,
        "start_time": "2022-05-08T14:29:51.956Z"
      },
      {
        "duration": 146,
        "start_time": "2022-05-08T14:29:52.110Z"
      },
      {
        "duration": 32,
        "start_time": "2022-05-08T14:29:52.258Z"
      },
      {
        "duration": 18,
        "start_time": "2022-05-08T14:29:52.292Z"
      },
      {
        "duration": 10,
        "start_time": "2022-05-08T14:29:52.313Z"
      },
      {
        "duration": 34,
        "start_time": "2022-05-08T14:29:52.325Z"
      },
      {
        "duration": 46,
        "start_time": "2022-05-08T14:29:52.363Z"
      },
      {
        "duration": 5,
        "start_time": "2022-05-08T14:29:52.411Z"
      },
      {
        "duration": 53,
        "start_time": "2022-05-08T14:29:52.418Z"
      },
      {
        "duration": 24,
        "start_time": "2022-05-08T14:29:52.473Z"
      },
      {
        "duration": 11,
        "start_time": "2022-05-08T14:29:52.499Z"
      },
      {
        "duration": 118,
        "start_time": "2022-05-08T14:29:52.512Z"
      },
      {
        "duration": 34,
        "start_time": "2022-05-08T14:29:52.632Z"
      },
      {
        "duration": 49,
        "start_time": "2022-05-08T14:29:52.669Z"
      },
      {
        "duration": 18,
        "start_time": "2022-05-08T14:29:52.720Z"
      },
      {
        "duration": 55,
        "start_time": "2022-05-08T14:29:52.740Z"
      },
      {
        "duration": 5,
        "start_time": "2022-05-08T14:29:52.797Z"
      },
      {
        "duration": 12,
        "start_time": "2022-05-08T14:29:52.804Z"
      },
      {
        "duration": 13,
        "start_time": "2022-05-08T14:29:52.818Z"
      },
      {
        "duration": 18,
        "start_time": "2022-05-08T14:29:52.833Z"
      },
      {
        "duration": 6,
        "start_time": "2022-05-08T14:29:52.852Z"
      },
      {
        "duration": 79,
        "start_time": "2022-05-08T14:29:52.860Z"
      },
      {
        "duration": 20,
        "start_time": "2022-05-08T14:29:52.942Z"
      },
      {
        "duration": 8,
        "start_time": "2022-05-08T14:29:52.963Z"
      },
      {
        "duration": 22,
        "start_time": "2022-05-08T14:29:52.973Z"
      },
      {
        "duration": 331,
        "start_time": "2022-05-08T14:29:52.998Z"
      },
      {
        "duration": 4,
        "start_time": "2022-05-08T14:29:53.333Z"
      },
      {
        "duration": 21,
        "start_time": "2022-05-08T14:29:53.339Z"
      },
      {
        "duration": 59,
        "start_time": "2022-05-08T14:29:53.362Z"
      },
      {
        "duration": 34,
        "start_time": "2022-05-08T14:29:53.423Z"
      },
      {
        "duration": 15,
        "start_time": "2022-05-08T14:29:53.459Z"
      },
      {
        "duration": 1160,
        "start_time": "2022-05-08T14:29:53.476Z"
      },
      {
        "duration": 5,
        "start_time": "2022-05-08T14:29:54.642Z"
      },
      {
        "duration": 33,
        "start_time": "2022-05-08T14:29:54.649Z"
      },
      {
        "duration": 54,
        "start_time": "2022-05-08T14:29:54.684Z"
      },
      {
        "duration": 38,
        "start_time": "2022-05-08T14:29:54.740Z"
      },
      {
        "duration": 10,
        "start_time": "2022-05-08T14:29:54.780Z"
      },
      {
        "duration": 390,
        "start_time": "2022-05-08T14:29:54.792Z"
      },
      {
        "duration": 368,
        "start_time": "2022-05-08T14:29:55.185Z"
      },
      {
        "duration": 9,
        "start_time": "2022-05-08T14:29:55.554Z"
      },
      {
        "duration": 24,
        "start_time": "2022-05-08T14:29:55.565Z"
      },
      {
        "duration": 8,
        "start_time": "2022-05-08T14:29:55.591Z"
      },
      {
        "duration": 2167,
        "start_time": "2022-05-08T14:29:55.602Z"
      },
      {
        "duration": 67,
        "start_time": "2022-05-08T14:29:57.771Z"
      },
      {
        "duration": 9,
        "start_time": "2022-05-08T14:29:57.840Z"
      },
      {
        "duration": 17,
        "start_time": "2022-05-08T14:29:57.850Z"
      },
      {
        "duration": 56,
        "start_time": "2022-05-08T14:29:57.869Z"
      },
      {
        "duration": 1223,
        "start_time": "2022-05-08T14:29:57.927Z"
      },
      {
        "duration": 11,
        "start_time": "2022-05-08T14:29:59.151Z"
      },
      {
        "duration": 14,
        "start_time": "2022-05-08T14:29:59.164Z"
      },
      {
        "duration": 20,
        "start_time": "2022-05-08T14:29:59.180Z"
      },
      {
        "duration": 14,
        "start_time": "2022-05-08T14:29:59.202Z"
      },
      {
        "duration": 14,
        "start_time": "2022-05-08T14:29:59.218Z"
      },
      {
        "duration": 9,
        "start_time": "2022-05-08T14:29:59.234Z"
      },
      {
        "duration": 84,
        "start_time": "2022-05-12T20:49:14.323Z"
      },
      {
        "duration": 1594,
        "start_time": "2022-05-12T20:49:21.867Z"
      },
      {
        "duration": 578,
        "start_time": "2022-05-12T20:49:23.463Z"
      },
      {
        "duration": 4,
        "start_time": "2022-05-12T20:49:24.044Z"
      },
      {
        "duration": 76,
        "start_time": "2022-05-12T20:49:24.051Z"
      },
      {
        "duration": 116,
        "start_time": "2022-05-12T20:49:24.130Z"
      },
      {
        "duration": 86,
        "start_time": "2022-05-12T20:49:24.249Z"
      },
      {
        "duration": 118,
        "start_time": "2022-05-12T20:49:24.338Z"
      },
      {
        "duration": 86,
        "start_time": "2022-05-12T20:49:24.458Z"
      },
      {
        "duration": 45,
        "start_time": "2022-05-12T20:49:24.547Z"
      },
      {
        "duration": 28,
        "start_time": "2022-05-12T20:49:24.595Z"
      },
      {
        "duration": 8,
        "start_time": "2022-05-12T20:49:24.626Z"
      },
      {
        "duration": 9,
        "start_time": "2022-05-12T20:49:24.636Z"
      },
      {
        "duration": 12,
        "start_time": "2022-05-12T20:49:24.647Z"
      },
      {
        "duration": 9,
        "start_time": "2022-05-12T20:49:24.683Z"
      },
      {
        "duration": 36,
        "start_time": "2022-05-12T20:49:24.694Z"
      },
      {
        "duration": 18,
        "start_time": "2022-05-12T20:49:24.732Z"
      },
      {
        "duration": 18,
        "start_time": "2022-05-12T20:49:24.752Z"
      },
      {
        "duration": 19,
        "start_time": "2022-05-12T20:49:24.794Z"
      },
      {
        "duration": 9,
        "start_time": "2022-05-12T20:49:24.815Z"
      },
      {
        "duration": 15,
        "start_time": "2022-05-12T20:49:24.828Z"
      },
      {
        "duration": 44,
        "start_time": "2022-05-12T20:49:24.846Z"
      },
      {
        "duration": 20,
        "start_time": "2022-05-12T20:49:24.893Z"
      },
      {
        "duration": 13,
        "start_time": "2022-05-12T20:49:24.916Z"
      },
      {
        "duration": 10,
        "start_time": "2022-05-12T20:49:24.931Z"
      },
      {
        "duration": 51,
        "start_time": "2022-05-12T20:49:24.944Z"
      },
      {
        "duration": 468,
        "start_time": "2022-05-12T20:49:24.998Z"
      },
      {
        "duration": 21,
        "start_time": "2022-05-12T20:49:25.469Z"
      },
      {
        "duration": 59,
        "start_time": "2022-05-12T20:49:25.493Z"
      },
      {
        "duration": 82,
        "start_time": "2022-05-12T20:49:25.554Z"
      },
      {
        "duration": 7,
        "start_time": "2022-05-12T20:49:25.639Z"
      },
      {
        "duration": 49,
        "start_time": "2022-05-12T20:49:25.649Z"
      },
      {
        "duration": 26,
        "start_time": "2022-05-12T20:49:25.700Z"
      },
      {
        "duration": 15,
        "start_time": "2022-05-12T20:49:25.729Z"
      },
      {
        "duration": 75,
        "start_time": "2022-05-12T20:49:25.746Z"
      },
      {
        "duration": 32,
        "start_time": "2022-05-12T20:49:25.825Z"
      },
      {
        "duration": 32,
        "start_time": "2022-05-12T20:49:25.860Z"
      },
      {
        "duration": 25,
        "start_time": "2022-05-12T20:49:25.898Z"
      },
      {
        "duration": 105,
        "start_time": "2022-05-12T20:49:25.925Z"
      },
      {
        "duration": 172,
        "start_time": "2022-05-12T20:49:26.032Z"
      },
      {
        "duration": 10,
        "start_time": "2022-05-12T20:49:26.206Z"
      },
      {
        "duration": 63,
        "start_time": "2022-05-12T20:49:26.234Z"
      },
      {
        "duration": 52,
        "start_time": "2022-05-12T20:49:26.299Z"
      },
      {
        "duration": 38,
        "start_time": "2022-05-12T20:49:26.354Z"
      },
      {
        "duration": 11,
        "start_time": "2022-05-12T20:49:26.395Z"
      },
      {
        "duration": 31,
        "start_time": "2022-05-12T20:49:26.408Z"
      },
      {
        "duration": 46,
        "start_time": "2022-05-12T20:49:26.441Z"
      },
      {
        "duration": 135,
        "start_time": "2022-05-12T20:49:26.492Z"
      },
      {
        "duration": 10,
        "start_time": "2022-05-12T20:49:26.629Z"
      },
      {
        "duration": 20,
        "start_time": "2022-05-12T20:49:26.641Z"
      },
      {
        "duration": 181,
        "start_time": "2022-05-12T20:49:26.681Z"
      },
      {
        "duration": 23,
        "start_time": "2022-05-12T20:49:26.865Z"
      },
      {
        "duration": 39,
        "start_time": "2022-05-12T20:49:26.890Z"
      },
      {
        "duration": 24,
        "start_time": "2022-05-12T20:49:26.932Z"
      },
      {
        "duration": 40,
        "start_time": "2022-05-12T20:49:26.958Z"
      },
      {
        "duration": 30,
        "start_time": "2022-05-12T20:49:27.001Z"
      },
      {
        "duration": 34,
        "start_time": "2022-05-12T20:49:27.033Z"
      },
      {
        "duration": 9,
        "start_time": "2022-05-12T20:49:27.091Z"
      },
      {
        "duration": 62,
        "start_time": "2022-05-12T20:49:27.103Z"
      },
      {
        "duration": 36,
        "start_time": "2022-05-12T20:49:27.167Z"
      },
      {
        "duration": 12,
        "start_time": "2022-05-12T20:49:27.206Z"
      },
      {
        "duration": 196,
        "start_time": "2022-05-12T20:49:27.220Z"
      },
      {
        "duration": 65,
        "start_time": "2022-05-12T20:49:27.421Z"
      },
      {
        "duration": 41,
        "start_time": "2022-05-12T20:49:27.491Z"
      },
      {
        "duration": 55,
        "start_time": "2022-05-12T20:49:27.534Z"
      },
      {
        "duration": 58,
        "start_time": "2022-05-12T20:49:27.595Z"
      },
      {
        "duration": 8,
        "start_time": "2022-05-12T20:49:27.656Z"
      },
      {
        "duration": 33,
        "start_time": "2022-05-12T20:49:27.666Z"
      },
      {
        "duration": 26,
        "start_time": "2022-05-12T20:49:27.701Z"
      },
      {
        "duration": 22,
        "start_time": "2022-05-12T20:49:27.729Z"
      },
      {
        "duration": 9,
        "start_time": "2022-05-12T20:49:27.753Z"
      },
      {
        "duration": 88,
        "start_time": "2022-05-12T20:49:27.764Z"
      },
      {
        "duration": 47,
        "start_time": "2022-05-12T20:49:27.854Z"
      },
      {
        "duration": 16,
        "start_time": "2022-05-12T20:49:27.903Z"
      },
      {
        "duration": 10,
        "start_time": "2022-05-12T20:49:27.921Z"
      },
      {
        "duration": 493,
        "start_time": "2022-05-12T20:49:27.934Z"
      },
      {
        "duration": 5,
        "start_time": "2022-05-12T20:49:28.429Z"
      },
      {
        "duration": 13,
        "start_time": "2022-05-12T20:49:28.436Z"
      },
      {
        "duration": 95,
        "start_time": "2022-05-12T20:49:28.451Z"
      },
      {
        "duration": 70,
        "start_time": "2022-05-12T20:49:28.548Z"
      },
      {
        "duration": 7,
        "start_time": "2022-05-12T20:49:28.620Z"
      },
      {
        "duration": 1555,
        "start_time": "2022-05-12T20:49:28.629Z"
      },
      {
        "duration": 15,
        "start_time": "2022-05-12T20:49:30.189Z"
      },
      {
        "duration": 44,
        "start_time": "2022-05-12T20:49:30.207Z"
      },
      {
        "duration": 48,
        "start_time": "2022-05-12T20:49:30.254Z"
      },
      {
        "duration": 46,
        "start_time": "2022-05-12T20:49:30.306Z"
      },
      {
        "duration": 27,
        "start_time": "2022-05-12T20:49:30.355Z"
      },
      {
        "duration": 265,
        "start_time": "2022-05-12T20:49:30.384Z"
      },
      {
        "duration": 0,
        "start_time": "2022-05-12T20:49:30.652Z"
      },
      {
        "duration": 0,
        "start_time": "2022-05-12T20:49:30.654Z"
      },
      {
        "duration": 0,
        "start_time": "2022-05-12T20:49:30.656Z"
      },
      {
        "duration": 0,
        "start_time": "2022-05-12T20:49:30.657Z"
      },
      {
        "duration": 0,
        "start_time": "2022-05-12T20:49:30.659Z"
      },
      {
        "duration": 0,
        "start_time": "2022-05-12T20:49:30.684Z"
      },
      {
        "duration": 0,
        "start_time": "2022-05-12T20:49:30.685Z"
      },
      {
        "duration": 0,
        "start_time": "2022-05-12T20:49:30.686Z"
      },
      {
        "duration": 0,
        "start_time": "2022-05-12T20:49:30.687Z"
      },
      {
        "duration": 0,
        "start_time": "2022-05-12T20:49:30.691Z"
      },
      {
        "duration": 0,
        "start_time": "2022-05-12T20:49:30.696Z"
      },
      {
        "duration": 0,
        "start_time": "2022-05-12T20:49:30.698Z"
      },
      {
        "duration": 0,
        "start_time": "2022-05-12T20:49:30.705Z"
      },
      {
        "duration": 0,
        "start_time": "2022-05-12T20:49:30.707Z"
      },
      {
        "duration": 0,
        "start_time": "2022-05-12T20:49:30.711Z"
      },
      {
        "duration": 0,
        "start_time": "2022-05-12T20:49:30.712Z"
      },
      {
        "duration": 0,
        "start_time": "2022-05-12T20:49:30.718Z"
      },
      {
        "duration": 0,
        "start_time": "2022-05-12T20:49:30.719Z"
      },
      {
        "duration": 16,
        "start_time": "2022-05-12T20:50:12.765Z"
      },
      {
        "duration": 1746,
        "start_time": "2022-05-12T20:50:48.582Z"
      },
      {
        "duration": 612,
        "start_time": "2022-05-12T20:50:50.330Z"
      },
      {
        "duration": 5,
        "start_time": "2022-05-12T20:50:50.945Z"
      },
      {
        "duration": 83,
        "start_time": "2022-05-12T20:50:50.955Z"
      },
      {
        "duration": 158,
        "start_time": "2022-05-12T20:50:51.041Z"
      },
      {
        "duration": 91,
        "start_time": "2022-05-12T20:50:51.212Z"
      },
      {
        "duration": 115,
        "start_time": "2022-05-12T20:50:51.305Z"
      },
      {
        "duration": 113,
        "start_time": "2022-05-12T20:50:51.423Z"
      },
      {
        "duration": 52,
        "start_time": "2022-05-12T20:50:51.539Z"
      },
      {
        "duration": 11,
        "start_time": "2022-05-12T20:50:51.597Z"
      },
      {
        "duration": 26,
        "start_time": "2022-05-12T20:50:51.610Z"
      },
      {
        "duration": 12,
        "start_time": "2022-05-12T20:50:51.639Z"
      },
      {
        "duration": 38,
        "start_time": "2022-05-12T20:50:51.654Z"
      },
      {
        "duration": 41,
        "start_time": "2022-05-12T20:50:51.696Z"
      },
      {
        "duration": 19,
        "start_time": "2022-05-12T20:50:51.740Z"
      },
      {
        "duration": 29,
        "start_time": "2022-05-12T20:50:51.762Z"
      },
      {
        "duration": 63,
        "start_time": "2022-05-12T20:50:51.794Z"
      },
      {
        "duration": 18,
        "start_time": "2022-05-12T20:50:51.860Z"
      },
      {
        "duration": 16,
        "start_time": "2022-05-12T20:50:51.881Z"
      },
      {
        "duration": 48,
        "start_time": "2022-05-12T20:50:51.905Z"
      },
      {
        "duration": 15,
        "start_time": "2022-05-12T20:50:51.957Z"
      },
      {
        "duration": 73,
        "start_time": "2022-05-12T20:50:51.975Z"
      },
      {
        "duration": 14,
        "start_time": "2022-05-12T20:50:52.050Z"
      },
      {
        "duration": 11,
        "start_time": "2022-05-12T20:50:52.067Z"
      },
      {
        "duration": 65,
        "start_time": "2022-05-12T20:50:52.081Z"
      },
      {
        "duration": 418,
        "start_time": "2022-05-12T20:50:52.149Z"
      },
      {
        "duration": 20,
        "start_time": "2022-05-12T20:50:52.570Z"
      },
      {
        "duration": 72,
        "start_time": "2022-05-12T20:50:52.603Z"
      },
      {
        "duration": 122,
        "start_time": "2022-05-12T20:50:52.678Z"
      },
      {
        "duration": 11,
        "start_time": "2022-05-12T20:50:52.808Z"
      },
      {
        "duration": 43,
        "start_time": "2022-05-12T20:50:52.822Z"
      },
      {
        "duration": 46,
        "start_time": "2022-05-12T20:50:52.867Z"
      },
      {
        "duration": 25,
        "start_time": "2022-05-12T20:50:52.916Z"
      },
      {
        "duration": 49,
        "start_time": "2022-05-12T20:50:52.943Z"
      },
      {
        "duration": 40,
        "start_time": "2022-05-12T20:50:53.001Z"
      },
      {
        "duration": 17,
        "start_time": "2022-05-12T20:50:53.043Z"
      },
      {
        "duration": 47,
        "start_time": "2022-05-12T20:50:53.062Z"
      },
      {
        "duration": 126,
        "start_time": "2022-05-12T20:50:53.120Z"
      },
      {
        "duration": 197,
        "start_time": "2022-05-12T20:50:53.249Z"
      },
      {
        "duration": 7,
        "start_time": "2022-05-12T20:50:53.449Z"
      },
      {
        "duration": 80,
        "start_time": "2022-05-12T20:50:53.460Z"
      },
      {
        "duration": 90,
        "start_time": "2022-05-12T20:50:53.544Z"
      },
      {
        "duration": 13,
        "start_time": "2022-05-12T20:50:53.641Z"
      },
      {
        "duration": 35,
        "start_time": "2022-05-12T20:50:53.657Z"
      },
      {
        "duration": 66,
        "start_time": "2022-05-12T20:50:53.699Z"
      },
      {
        "duration": 75,
        "start_time": "2022-05-12T20:50:53.768Z"
      },
      {
        "duration": 189,
        "start_time": "2022-05-12T20:50:53.847Z"
      },
      {
        "duration": 15,
        "start_time": "2022-05-12T20:50:54.040Z"
      },
      {
        "duration": 48,
        "start_time": "2022-05-12T20:50:54.058Z"
      },
      {
        "duration": 340,
        "start_time": "2022-05-12T20:50:54.109Z"
      },
      {
        "duration": 9,
        "start_time": "2022-05-12T20:50:54.451Z"
      },
      {
        "duration": 46,
        "start_time": "2022-05-12T20:50:54.462Z"
      },
      {
        "duration": 47,
        "start_time": "2022-05-12T20:50:54.510Z"
      },
      {
        "duration": 12,
        "start_time": "2022-05-12T20:50:54.559Z"
      },
      {
        "duration": 36,
        "start_time": "2022-05-12T20:50:54.586Z"
      },
      {
        "duration": 38,
        "start_time": "2022-05-12T20:50:54.627Z"
      },
      {
        "duration": 23,
        "start_time": "2022-05-12T20:50:54.682Z"
      },
      {
        "duration": 75,
        "start_time": "2022-05-12T20:50:54.707Z"
      },
      {
        "duration": 17,
        "start_time": "2022-05-12T20:50:54.787Z"
      },
      {
        "duration": 42,
        "start_time": "2022-05-12T20:50:54.806Z"
      },
      {
        "duration": 190,
        "start_time": "2022-05-12T20:50:54.850Z"
      },
      {
        "duration": 92,
        "start_time": "2022-05-12T20:50:55.043Z"
      },
      {
        "duration": 68,
        "start_time": "2022-05-12T20:50:55.138Z"
      },
      {
        "duration": 27,
        "start_time": "2022-05-12T20:50:55.212Z"
      },
      {
        "duration": 78,
        "start_time": "2022-05-12T20:50:55.242Z"
      },
      {
        "duration": 8,
        "start_time": "2022-05-12T20:50:55.324Z"
      },
      {
        "duration": 13,
        "start_time": "2022-05-12T20:50:55.334Z"
      },
      {
        "duration": 46,
        "start_time": "2022-05-12T20:50:55.349Z"
      },
      {
        "duration": 29,
        "start_time": "2022-05-12T20:50:55.398Z"
      },
      {
        "duration": 15,
        "start_time": "2022-05-12T20:50:55.430Z"
      },
      {
        "duration": 82,
        "start_time": "2022-05-12T20:50:55.448Z"
      },
      {
        "duration": 23,
        "start_time": "2022-05-12T20:50:55.532Z"
      },
      {
        "duration": 44,
        "start_time": "2022-05-12T20:50:55.557Z"
      },
      {
        "duration": 19,
        "start_time": "2022-05-12T20:50:55.603Z"
      },
      {
        "duration": 513,
        "start_time": "2022-05-12T20:50:55.625Z"
      },
      {
        "duration": 5,
        "start_time": "2022-05-12T20:50:56.140Z"
      },
      {
        "duration": 13,
        "start_time": "2022-05-12T20:50:56.147Z"
      },
      {
        "duration": 93,
        "start_time": "2022-05-12T20:50:56.162Z"
      },
      {
        "duration": 76,
        "start_time": "2022-05-12T20:50:56.258Z"
      },
      {
        "duration": 10,
        "start_time": "2022-05-12T20:50:56.336Z"
      },
      {
        "duration": 1582,
        "start_time": "2022-05-12T20:50:56.349Z"
      },
      {
        "duration": 7,
        "start_time": "2022-05-12T20:50:57.940Z"
      },
      {
        "duration": 49,
        "start_time": "2022-05-12T20:50:57.950Z"
      },
      {
        "duration": 33,
        "start_time": "2022-05-12T20:50:58.002Z"
      },
      {
        "duration": 56,
        "start_time": "2022-05-12T20:50:58.037Z"
      },
      {
        "duration": 8,
        "start_time": "2022-05-12T20:50:58.096Z"
      },
      {
        "duration": 639,
        "start_time": "2022-05-12T20:50:58.106Z"
      },
      {
        "duration": 667,
        "start_time": "2022-05-12T20:50:58.747Z"
      },
      {
        "duration": 14,
        "start_time": "2022-05-12T20:50:59.418Z"
      },
      {
        "duration": 17,
        "start_time": "2022-05-12T20:50:59.434Z"
      },
      {
        "duration": 37,
        "start_time": "2022-05-12T20:50:59.453Z"
      },
      {
        "duration": 5378,
        "start_time": "2022-05-12T20:50:59.493Z"
      },
      {
        "duration": 120,
        "start_time": "2022-05-12T20:51:04.873Z"
      },
      {
        "duration": 22,
        "start_time": "2022-05-12T20:51:04.996Z"
      },
      {
        "duration": 19,
        "start_time": "2022-05-12T20:51:05.021Z"
      },
      {
        "duration": 81,
        "start_time": "2022-05-12T20:51:05.042Z"
      },
      {
        "duration": 2028,
        "start_time": "2022-05-12T20:51:05.126Z"
      },
      {
        "duration": 29,
        "start_time": "2022-05-12T20:51:07.157Z"
      },
      {
        "duration": 49,
        "start_time": "2022-05-12T20:51:07.193Z"
      },
      {
        "duration": 29,
        "start_time": "2022-05-12T20:51:07.245Z"
      },
      {
        "duration": 30,
        "start_time": "2022-05-12T20:51:07.276Z"
      },
      {
        "duration": 51,
        "start_time": "2022-05-12T20:51:07.311Z"
      },
      {
        "duration": 32,
        "start_time": "2022-05-12T20:51:07.364Z"
      },
      {
        "duration": 36,
        "start_time": "2022-05-12T20:51:07.399Z"
      },
      {
        "duration": 37,
        "start_time": "2022-05-12T20:52:01.805Z"
      },
      {
        "duration": 46,
        "start_time": "2022-05-12T20:55:59.970Z"
      },
      {
        "duration": 38,
        "start_time": "2022-05-12T20:56:23.971Z"
      },
      {
        "duration": 6,
        "start_time": "2022-05-12T20:56:53.699Z"
      },
      {
        "duration": 35,
        "start_time": "2022-05-12T20:57:27.665Z"
      },
      {
        "duration": 102,
        "start_time": "2022-05-12T20:59:47.609Z"
      },
      {
        "duration": 7,
        "start_time": "2022-05-12T21:08:04.511Z"
      },
      {
        "duration": 89,
        "start_time": "2022-05-12T21:09:10.471Z"
      },
      {
        "duration": 2228,
        "start_time": "2022-05-12T21:09:33.192Z"
      },
      {
        "duration": 381,
        "start_time": "2022-05-12T21:09:57.809Z"
      },
      {
        "duration": 166,
        "start_time": "2022-05-12T21:10:06.811Z"
      },
      {
        "duration": 441,
        "start_time": "2022-05-12T21:10:23.270Z"
      },
      {
        "duration": 276,
        "start_time": "2022-05-12T21:10:32.890Z"
      },
      {
        "duration": 43,
        "start_time": "2022-05-12T21:10:42.350Z"
      },
      {
        "duration": 1553,
        "start_time": "2022-05-12T21:13:20.113Z"
      },
      {
        "duration": 533,
        "start_time": "2022-05-12T21:13:21.669Z"
      },
      {
        "duration": 5,
        "start_time": "2022-05-12T21:13:22.204Z"
      },
      {
        "duration": 95,
        "start_time": "2022-05-12T21:13:22.212Z"
      },
      {
        "duration": 127,
        "start_time": "2022-05-12T21:13:22.312Z"
      },
      {
        "duration": 77,
        "start_time": "2022-05-12T21:13:22.441Z"
      },
      {
        "duration": 118,
        "start_time": "2022-05-12T21:13:22.520Z"
      },
      {
        "duration": 75,
        "start_time": "2022-05-12T21:13:22.640Z"
      },
      {
        "duration": 19,
        "start_time": "2022-05-12T21:13:22.717Z"
      },
      {
        "duration": 11,
        "start_time": "2022-05-12T21:13:22.738Z"
      },
      {
        "duration": 42,
        "start_time": "2022-05-12T21:13:22.751Z"
      },
      {
        "duration": 8,
        "start_time": "2022-05-12T21:13:22.795Z"
      },
      {
        "duration": 15,
        "start_time": "2022-05-12T21:13:22.806Z"
      },
      {
        "duration": 7,
        "start_time": "2022-05-12T21:13:22.826Z"
      },
      {
        "duration": 14,
        "start_time": "2022-05-12T21:13:22.835Z"
      },
      {
        "duration": 20,
        "start_time": "2022-05-12T21:13:22.889Z"
      },
      {
        "duration": 19,
        "start_time": "2022-05-12T21:13:22.912Z"
      },
      {
        "duration": 9,
        "start_time": "2022-05-12T21:13:22.934Z"
      },
      {
        "duration": 46,
        "start_time": "2022-05-12T21:13:22.945Z"
      },
      {
        "duration": 21,
        "start_time": "2022-05-12T21:13:22.994Z"
      },
      {
        "duration": 15,
        "start_time": "2022-05-12T21:13:23.017Z"
      },
      {
        "duration": 23,
        "start_time": "2022-05-12T21:13:23.034Z"
      },
      {
        "duration": 38,
        "start_time": "2022-05-12T21:13:23.059Z"
      },
      {
        "duration": 12,
        "start_time": "2022-05-12T21:13:23.100Z"
      },
      {
        "duration": 16,
        "start_time": "2022-05-12T21:13:23.114Z"
      },
      {
        "duration": 352,
        "start_time": "2022-05-12T21:13:23.133Z"
      },
      {
        "duration": 12,
        "start_time": "2022-05-12T21:13:23.487Z"
      },
      {
        "duration": 41,
        "start_time": "2022-05-12T21:13:23.502Z"
      },
      {
        "duration": 93,
        "start_time": "2022-05-12T21:13:23.545Z"
      },
      {
        "duration": 8,
        "start_time": "2022-05-12T21:13:23.640Z"
      },
      {
        "duration": 47,
        "start_time": "2022-05-12T21:13:23.651Z"
      },
      {
        "duration": 27,
        "start_time": "2022-05-12T21:13:23.701Z"
      },
      {
        "duration": 15,
        "start_time": "2022-05-12T21:13:23.731Z"
      },
      {
        "duration": 68,
        "start_time": "2022-05-12T21:13:23.749Z"
      },
      {
        "duration": 31,
        "start_time": "2022-05-12T21:13:23.819Z"
      },
      {
        "duration": 42,
        "start_time": "2022-05-12T21:13:23.852Z"
      },
      {
        "duration": 15,
        "start_time": "2022-05-12T21:13:23.897Z"
      },
      {
        "duration": 104,
        "start_time": "2022-05-12T21:13:23.915Z"
      },
      {
        "duration": 171,
        "start_time": "2022-05-12T21:13:24.022Z"
      },
      {
        "duration": 7,
        "start_time": "2022-05-12T21:13:24.198Z"
      },
      {
        "duration": 26,
        "start_time": "2022-05-12T21:13:24.214Z"
      },
      {
        "duration": 75,
        "start_time": "2022-05-12T21:13:24.242Z"
      },
      {
        "duration": 9,
        "start_time": "2022-05-12T21:13:24.320Z"
      },
      {
        "duration": 6,
        "start_time": "2022-05-12T21:13:24.332Z"
      },
      {
        "duration": 57,
        "start_time": "2022-05-12T21:13:24.340Z"
      },
      {
        "duration": 46,
        "start_time": "2022-05-12T21:13:24.399Z"
      },
      {
        "duration": 135,
        "start_time": "2022-05-12T21:13:24.448Z"
      },
      {
        "duration": 11,
        "start_time": "2022-05-12T21:13:24.586Z"
      },
      {
        "duration": 21,
        "start_time": "2022-05-12T21:13:24.603Z"
      },
      {
        "duration": 193,
        "start_time": "2022-05-12T21:13:24.627Z"
      },
      {
        "duration": 8,
        "start_time": "2022-05-12T21:13:24.823Z"
      },
      {
        "duration": 18,
        "start_time": "2022-05-12T21:13:24.833Z"
      },
      {
        "duration": 50,
        "start_time": "2022-05-12T21:13:24.854Z"
      },
      {
        "duration": 12,
        "start_time": "2022-05-12T21:13:24.906Z"
      },
      {
        "duration": 28,
        "start_time": "2022-05-12T21:13:24.921Z"
      },
      {
        "duration": 80,
        "start_time": "2022-05-12T21:13:24.951Z"
      },
      {
        "duration": 7,
        "start_time": "2022-05-12T21:13:25.033Z"
      },
      {
        "duration": 89,
        "start_time": "2022-05-12T21:13:25.043Z"
      },
      {
        "duration": 9,
        "start_time": "2022-05-12T21:13:25.134Z"
      },
      {
        "duration": 11,
        "start_time": "2022-05-12T21:13:25.145Z"
      },
      {
        "duration": 183,
        "start_time": "2022-05-12T21:13:25.182Z"
      },
      {
        "duration": 66,
        "start_time": "2022-05-12T21:13:25.367Z"
      },
      {
        "duration": 49,
        "start_time": "2022-05-12T21:13:25.435Z"
      },
      {
        "duration": 31,
        "start_time": "2022-05-12T21:13:25.487Z"
      },
      {
        "duration": 96,
        "start_time": "2022-05-12T21:13:25.521Z"
      },
      {
        "duration": 6,
        "start_time": "2022-05-12T21:13:25.619Z"
      },
      {
        "duration": 13,
        "start_time": "2022-05-12T21:13:25.627Z"
      },
      {
        "duration": 13,
        "start_time": "2022-05-12T21:13:25.643Z"
      },
      {
        "duration": 46,
        "start_time": "2022-05-12T21:13:25.658Z"
      },
      {
        "duration": 8,
        "start_time": "2022-05-12T21:13:25.707Z"
      },
      {
        "duration": 72,
        "start_time": "2022-05-12T21:13:25.718Z"
      },
      {
        "duration": 25,
        "start_time": "2022-05-12T21:13:25.792Z"
      },
      {
        "duration": 12,
        "start_time": "2022-05-12T21:13:25.819Z"
      },
      {
        "duration": 16,
        "start_time": "2022-05-12T21:13:25.834Z"
      },
      {
        "duration": 507,
        "start_time": "2022-05-12T21:13:25.852Z"
      },
      {
        "duration": 5,
        "start_time": "2022-05-12T21:13:26.362Z"
      },
      {
        "duration": 22,
        "start_time": "2022-05-12T21:13:26.369Z"
      },
      {
        "duration": 62,
        "start_time": "2022-05-12T21:13:26.395Z"
      },
      {
        "duration": 48,
        "start_time": "2022-05-12T21:13:26.483Z"
      },
      {
        "duration": 8,
        "start_time": "2022-05-12T21:13:26.533Z"
      },
      {
        "duration": 1417,
        "start_time": "2022-05-12T21:13:26.544Z"
      },
      {
        "duration": 22,
        "start_time": "2022-05-12T21:13:27.964Z"
      },
      {
        "duration": 41,
        "start_time": "2022-05-12T21:13:27.989Z"
      },
      {
        "duration": 32,
        "start_time": "2022-05-12T21:13:28.033Z"
      },
      {
        "duration": 47,
        "start_time": "2022-05-12T21:13:28.068Z"
      },
      {
        "duration": 8,
        "start_time": "2022-05-12T21:13:28.118Z"
      },
      {
        "duration": 924,
        "start_time": "2022-05-12T21:13:28.129Z"
      },
      {
        "duration": 648,
        "start_time": "2022-05-12T21:13:29.055Z"
      },
      {
        "duration": 22,
        "start_time": "2022-05-12T21:13:29.706Z"
      },
      {
        "duration": 21,
        "start_time": "2022-05-12T21:13:29.730Z"
      },
      {
        "duration": 43,
        "start_time": "2022-05-12T21:13:29.754Z"
      },
      {
        "duration": 5435,
        "start_time": "2022-05-12T21:13:29.801Z"
      },
      {
        "duration": 100,
        "start_time": "2022-05-12T21:13:35.238Z"
      },
      {
        "duration": 60,
        "start_time": "2022-05-12T21:13:35.340Z"
      },
      {
        "duration": 14,
        "start_time": "2022-05-12T21:13:35.403Z"
      },
      {
        "duration": 14,
        "start_time": "2022-05-12T21:13:35.420Z"
      },
      {
        "duration": 91,
        "start_time": "2022-05-12T21:13:35.437Z"
      },
      {
        "duration": 2135,
        "start_time": "2022-05-12T21:13:35.530Z"
      },
      {
        "duration": 27,
        "start_time": "2022-05-12T21:13:37.667Z"
      },
      {
        "duration": 20,
        "start_time": "2022-05-12T21:13:37.699Z"
      },
      {
        "duration": 15,
        "start_time": "2022-05-12T21:13:37.721Z"
      },
      {
        "duration": 14,
        "start_time": "2022-05-12T21:13:37.738Z"
      },
      {
        "duration": 11,
        "start_time": "2022-05-12T21:13:37.783Z"
      },
      {
        "duration": 22,
        "start_time": "2022-05-12T21:13:37.797Z"
      },
      {
        "duration": 22,
        "start_time": "2022-05-12T21:13:37.822Z"
      },
      {
        "duration": 51,
        "start_time": "2022-05-12T21:13:37.848Z"
      },
      {
        "duration": 92,
        "start_time": "2022-05-12T21:13:37.902Z"
      },
      {
        "duration": 2148,
        "start_time": "2022-05-12T21:13:37.997Z"
      },
      {
        "duration": 451,
        "start_time": "2022-05-12T21:13:40.148Z"
      },
      {
        "duration": 306,
        "start_time": "2022-05-12T21:13:40.601Z"
      },
      {
        "duration": 303,
        "start_time": "2022-05-12T21:13:40.909Z"
      },
      {
        "duration": 42,
        "start_time": "2022-05-12T21:13:41.214Z"
      }
    ],
    "kernelspec": {
      "display_name": "Python 3 (ipykernel)",
      "language": "python",
      "name": "python3"
    },
    "language_info": {
      "codemirror_mode": {
        "name": "ipython",
        "version": 3
      },
      "file_extension": ".py",
      "mimetype": "text/x-python",
      "name": "python",
      "nbconvert_exporter": "python",
      "pygments_lexer": "ipython3",
      "version": "3.9.7"
    },
    "toc": {
      "base_numbering": 1,
      "nav_menu": {},
      "number_sections": true,
      "sideBar": true,
      "skip_h1_title": true,
      "title_cell": "Содержание",
      "title_sidebar": "Contents",
      "toc_cell": true,
      "toc_position": {
        "height": "calc(100% - 180px)",
        "left": "10px",
        "top": "150px",
        "width": "227.99632263183594px"
      },
      "toc_section_display": true,
      "toc_window_display": true
    },
    "colab": {
      "provenance": [],
      "toc_visible": true
    }
  },
  "nbformat": 4,
  "nbformat_minor": 5
}